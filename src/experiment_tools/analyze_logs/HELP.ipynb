{
 "cells": [
  {
   "metadata": {
    "collapsed": true,
    "ExecuteTime": {
     "end_time": "2025-03-10T20:57:40.437753Z",
     "start_time": "2025-03-10T20:57:39.585550Z"
    }
   },
   "cell_type": "code",
   "outputs": [],
   "execution_count": 1,
   "source": "import pandas as pd",
   "id": "initial_id"
  },
  {
   "metadata": {
    "ExecuteTime": {
     "end_time": "2025-03-10T21:00:58.928771Z",
     "start_time": "2025-03-10T21:00:58.913256Z"
    }
   },
   "cell_type": "code",
   "outputs": [],
   "execution_count": 15,
   "source": [
    "x_80 = pd.read_pickle('../../../data/valid_matched/mappings.pkl')\n",
    "inv_x_80 = {v:k for k,v in x_80[0].items()}"
   ],
   "id": "d7c2647ce5e83594"
  },
  {
   "metadata": {
    "ExecuteTime": {
     "end_time": "2025-03-10T21:01:12.412824Z",
     "start_time": "2025-03-10T21:01:12.396863Z"
    }
   },
   "cell_type": "code",
   "outputs": [],
   "execution_count": 16,
   "source": [
    "x = pd.read_pickle('../../../data/processed 2/mappings.pkl')\n",
    "inv_x = {v:k for k,v in x[0].items()}\n"
   ],
   "id": "5412aef62b75f1ae"
  },
  {
   "metadata": {
    "ExecuteTime": {
     "end_time": "2025-03-10T21:00:17.034415Z",
     "start_time": "2025-03-10T21:00:17.020127Z"
    }
   },
   "cell_type": "code",
   "outputs": [],
   "source": "",
   "id": "cdde131072b2ae1a",
   "execution_count": null
  },
  {
   "metadata": {
    "ExecuteTime": {
     "end_time": "2025-03-07T08:23:04.295416Z",
     "start_time": "2025-03-07T08:23:04.285940Z"
    }
   },
   "cell_type": "code",
   "outputs": [
    {
     "data": {
      "text/plain": [
       "11751"
      ]
     },
     "execution_count": 28,
     "metadata": {},
     "output_type": "execute_result"
    }
   ],
   "execution_count": 28,
   "source": "len(set(x_80[0].keys()) - set(x[0].keys()))",
   "id": "fadfb09555647cf1"
  },
  {
   "metadata": {
    "ExecuteTime": {
     "end_time": "2025-03-07T08:23:04.817694Z",
     "start_time": "2025-03-07T08:23:04.808139Z"
    }
   },
   "cell_type": "code",
   "outputs": [
    {
     "data": {
      "text/plain": [
       "6563"
      ]
     },
     "execution_count": 29,
     "metadata": {},
     "output_type": "execute_result"
    }
   ],
   "execution_count": 29,
   "source": "len(set(x_80[1].keys()) - set(x[1].keys()))",
   "id": "519f607c0f667cf3"
  },
  {
   "metadata": {
    "ExecuteTime": {
     "end_time": "2025-03-10T21:03:27.923058Z",
     "start_time": "2025-03-10T21:03:27.905035Z"
    }
   },
   "cell_type": "code",
   "source": "t = pd.read_pickle('../../../data/valid_matched/test_sequences.pkl')",
   "id": "13d9037855e86099",
   "outputs": [],
   "execution_count": 35
  },
  {
   "metadata": {
    "ExecuteTime": {
     "end_time": "2025-03-10T21:03:28.144353Z",
     "start_time": "2025-03-10T21:03:28.095925Z"
    }
   },
   "cell_type": "code",
   "source": "t_v = pd.read_pickle('../../../data/processed 2/test_sequences.pkl')",
   "id": "3b68ba28125cc359",
   "outputs": [],
   "execution_count": 36
  },
  {
   "metadata": {
    "ExecuteTime": {
     "end_time": "2025-03-10T21:03:28.418532Z",
     "start_time": "2025-03-10T21:03:28.412770Z"
    }
   },
   "cell_type": "code",
   "source": [
    "t1 = set([inv_x_80[s] for s in t])\n",
    "t2 = set([inv_x[s] for s in t_v])"
   ],
   "id": "cf3175f61f081141",
   "outputs": [],
   "execution_count": 37
  },
  {
   "metadata": {
    "ExecuteTime": {
     "end_time": "2025-03-10T21:03:28.823224Z",
     "start_time": "2025-03-10T21:03:28.819835Z"
    }
   },
   "cell_type": "code",
   "source": "t1==t2",
   "id": "1789eaa73428a1a1",
   "outputs": [
    {
     "data": {
      "text/plain": [
       "True"
      ]
     },
     "execution_count": 38,
     "metadata": {},
     "output_type": "execute_result"
    }
   ],
   "execution_count": 38
  },
  {
   "metadata": {
    "ExecuteTime": {
     "end_time": "2025-03-10T21:03:01.636942Z",
     "start_time": "2025-03-10T21:03:01.633679Z"
    }
   },
   "cell_type": "code",
   "source": "t2-t1",
   "id": "1f14fd40b842c4fc",
   "outputs": [
    {
     "data": {
      "text/plain": [
       "set()"
      ]
     },
     "execution_count": 29,
     "metadata": {},
     "output_type": "execute_result"
    }
   ],
   "execution_count": 29
  },
  {
   "metadata": {
    "ExecuteTime": {
     "end_time": "2025-03-10T20:58:30.218055Z",
     "start_time": "2025-03-10T20:58:30.210708Z"
    }
   },
   "cell_type": "code",
   "outputs": [
    {
     "data": {
      "text/plain": [
       "26909"
      ]
     },
     "execution_count": 4,
     "metadata": {},
     "output_type": "execute_result"
    }
   ],
   "execution_count": 4,
   "source": "len(set(t.keys()).intersection(set(t_v.keys())))",
   "id": "e5d320fc8fff20da"
  },
  {
   "metadata": {
    "ExecuteTime": {
     "end_time": "2025-03-10T20:58:39.235263Z",
     "start_time": "2025-03-10T20:58:39.229426Z"
    }
   },
   "cell_type": "code",
   "outputs": [
    {
     "data": {
      "text/plain": [
       "26910"
      ]
     },
     "execution_count": 5,
     "metadata": {},
     "output_type": "execute_result"
    }
   ],
   "execution_count": 5,
   "source": "len(set(t.keys()))",
   "id": "c2b18232f3a9f597"
  },
  {
   "metadata": {
    "ExecuteTime": {
     "end_time": "2025-03-10T20:58:47.915611Z",
     "start_time": "2025-03-10T20:58:47.911905Z"
    }
   },
   "cell_type": "code",
   "outputs": [
    {
     "data": {
      "text/plain": [
       "26910"
      ]
     },
     "execution_count": 6,
     "metadata": {},
     "output_type": "execute_result"
    }
   ],
   "execution_count": 6,
   "source": "len(set(t_v.keys()))",
   "id": "f90ec846ff528c23"
  },
  {
   "metadata": {
    "ExecuteTime": {
     "end_time": "2025-03-10T20:59:04.420520Z",
     "start_time": "2025-03-10T20:59:04.415798Z"
    }
   },
   "cell_type": "code",
   "outputs": [
    {
     "data": {
      "text/plain": [
       "{26910}"
      ]
     },
     "execution_count": 9,
     "metadata": {},
     "output_type": "execute_result"
    }
   ],
   "execution_count": 9,
   "source": "set(t) - set(t_v)",
   "id": "f1736fde73dc9583"
  },
  {
   "metadata": {},
   "cell_type": "code",
   "outputs": [],
   "source": "",
   "id": "1efc1a4e14e5e17b",
   "execution_count": null
  }
 ],
 "metadata": {
  "kernelspec": {
   "display_name": "Python 3",
   "language": "python",
   "name": "python3"
  },
  "language_info": {
   "codemirror_mode": {
    "name": "ipython",
    "version": 2
   },
   "file_extension": ".py",
   "mimetype": "text/x-python",
   "name": "python",
   "nbconvert_exporter": "python",
   "pygments_lexer": "ipython2",
   "version": "2.7.6"
  }
 },
 "nbformat": 4,
 "nbformat_minor": 5
}
