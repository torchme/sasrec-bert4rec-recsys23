{
 "cells": [
  {
   "cell_type": "code",
   "id": "initial_id",
   "metadata": {
    "collapsed": true,
    "ExecuteTime": {
     "end_time": "2025-01-23T01:10:19.413631Z",
     "start_time": "2025-01-23T01:10:19.409115Z"
    }
   },
   "source": "%cd ../../../",
   "outputs": [
    {
     "name": "stdout",
     "output_type": "stream",
     "text": [
      "/Users/nseverin/MyData/Projects/Science/LLM/sasrec-bert4rec-recsys23\n"
     ]
    },
    {
     "name": "stderr",
     "output_type": "stream",
     "text": [
      "/Users/nseverin/MyData/Projects/Science/LLM/sasrec-bert4rec-recsys23/venv/lib/python3.11/site-packages/IPython/core/magics/osm.py:417: UserWarning: This is now an optional IPython functionality, setting dhist requires you to install the `pickleshare` library.\n",
      "  self.shell.db['dhist'] = compress_dhist(dhist)[-100:]\n"
     ]
    }
   ],
   "execution_count": 3
  },
  {
   "metadata": {
    "ExecuteTime": {
     "end_time": "2025-01-23T13:28:55.582722Z",
     "start_time": "2025-01-23T13:28:55.575265Z"
    }
   },
   "cell_type": "code",
   "source": [
    "import os\n",
    "from itertools import product\n",
    "from copy import deepcopy\n",
    "import os\n",
    "\n",
    "from src.experiment_tools.utils import read_text, save_text, read_json\n",
    "\n",
    "\n",
    "def generate_config_params():\n",
    "    cur_main_params = deepcopy(CONFIG_PARAMS)\n",
    "    final_combinations = []\n",
    "    keys, values = zip(*cur_main_params.items())\n",
    "    all_combinations = [dict(zip(keys, v)) for v in product(*values)]\n",
    "    for combination in all_combinations:\n",
    "        if MODE == 'BASELINE':\n",
    "            final_combinations.append(combination)\n",
    "        else:\n",
    "            if combination['use_down_scale'] and combination['use_upscale']:\n",
    "                continue\n",
    "            if combination['use_down_scale'] == False and combination['use_upscale'] == False and (\n",
    "                    combination['user_profile_embeddings_files'] is not None and\n",
    "                    ('-256.json' in combination['user_profile_embeddings_files'] or\n",
    "                     '-128.json' in combination['user_profile_embeddings_files'])):\n",
    "                continue\n",
    "            if combination['multi_profile_aggr_scheme'] == 'attention' and combination['multi_profile'] and combination['use_upscale']:\n",
    "                continue\n",
    "            if not combination['multi_profile'] and combination['multi_profile_aggr_scheme'] != 'mean':\n",
    "                continue\n",
    "            # if combination['multi_profile']:\n",
    "            #     \n",
    "            final_combinations.append(combination)\n",
    "    return final_combinations\n",
    "\n",
    "\n",
    "def create_list_of_lists(k, N):\n",
    "    result = []\n",
    "    start = 0\n",
    "    while start < N:\n",
    "        end = min(start + k - 1, N)\n",
    "        result.append([start, end])\n",
    "        start += k\n",
    "    return result\n",
    "\n",
    "\n",
    "def create_config_files(generated_configs):\n",
    "    def fill_by_config_dict(config_base, config_vals):\n",
    "        for field in config_vals:\n",
    "            cur_val = config_vals[field]\n",
    "            if field not in config_base:\n",
    "                print(field)\n",
    "                raise Exception()\n",
    "            config_base = config_base.replace('{' + field + '}', f'{cur_val}')\n",
    "        return config_base\n",
    "\n",
    "    for config in generated_configs:\n",
    "        config_base = read_text(CONFIG_TEMPLATE_PATH)\n",
    "        config_base = fill_by_config_dict(config_base, PREDEFINED_PARAMS)\n",
    "        config_base = fill_by_config_dict(config_base, config)\n",
    "        save_path = SAVE_CONFIG_FILE.format(**config)\n",
    "        save_text(save_path, config_base)\n",
    "\n",
    "\n",
    "def create_bash(start, end):\n",
    "    base_bash = read_text(BASH_TEMPLATE_PATH)\n",
    "    base_bash = ((base_bash.replace('{start}', str(start))\n",
    "                 .replace('{end}', str(end)))\n",
    "                 .replace('{folder_path}', CONFIG_PATH))\n",
    "    save_text(os.path.join(BASH_PATH, f'{start}-{end}.sh'), base_bash)\n",
    "\n",
    "\n",
    "def create_bash_files(generated_confs, n_confs_per_bash):\n",
    "    ind_lst = create_list_of_lists(n_confs_per_bash, len(generated_confs))\n",
    "    print(len(ind_lst))\n",
    "    for start, end in ind_lst:\n",
    "        create_bash(start, end)\n",
    "\n",
    "\n",
    "def create_sbatch_files():\n",
    "    sbatch_temp = read_text(SBATCH_TEMPLATE_PATH)\n",
    "\n",
    "    for file in os.listdir(BASH_PATH):\n",
    "        cur_sbatch = (sbatch_temp.\n",
    "                      replace('{model_name}', MODEL_NAME).\n",
    "                      replace('{dataset}', DATASET).\n",
    "                      replace('{time_to_take}', TIME_TO_TAKE).\n",
    "                      replace('{artefact_path}', ARTEFACT_PATH).\n",
    "                      replace('{experiment_name}', EXPERIMENT_NAME).\n",
    "                      replace('{seed_folder}', SEED_FOLDER).\n",
    "                      replace('{bash_name}', file))\n",
    "        if file[0] == '.':\n",
    "            continue\n",
    "        save_text(os.path.join(SBATCH_PATH, file.replace('.sh', '.sbatch')), cur_sbatch)\n",
    "\n",
    "\n",
    "SBATCH_TEMPLATE_PATH = 'experiments-2_0/sbatch/BASE.sbatch'\n",
    "BASH_TEMPLATE_PATH = 'experiments-2_0/bash/BASE.sh'\n",
    "FILE_MAPPING_PATH = 'experiments-2_0/configs/file_mapping'"
   ],
   "id": "2f8ade711a1142f1",
   "outputs": [],
   "execution_count": 123
  },
  {
   "metadata": {
    "ExecuteTime": {
     "end_time": "2025-01-23T13:28:58.084297Z",
     "start_time": "2025-01-23T13:28:58.081367Z"
    }
   },
   "cell_type": "code",
   "source": [
    "# BASELINE MODE\n",
    "\n",
    "MODEL_NAME = 'sasrec'\n",
    "DATASET = 'beauty'\n",
    "EXPERIMENT_NAME = 'baseline'\n",
    "SEED_FOLDER = 'other_seed'\n",
    "SPLIT_NAME = 'general'\n",
    "MODE = 'BASELINE'\n",
    "\n",
    "PROFILE_PATH_NAMES = None\n",
    "\n",
    "PREDEFINED_PARAMS = {'epochs': 30}\n",
    "\n",
    "CONFIG_PARAMS = {\n",
    "    'hidden_units': [64, 128, 256],\n",
    "    'num_blocks': [2,4],\n",
    "    'num_heads': [2,4],\n",
    "    'dropout_rate': [0.2, 0.3],\n",
    "    'learning_rate': [0.001, 0.0005],\n",
    "    'seed': [42] if SEED_FOLDER == 'single_seed' else [1, 256],\n",
    "}\n",
    "\n",
    "CONFIG_TEMPLATE_PATH = f'experiments-2_0/configs/{MODEL_NAME}/template/baseline.yaml'\n",
    "SAVE_FILE_TEMPLATE = '{hidden_units}-{num_blocks}-{num_heads}-{dropout_rate}-{learning_rate}-{seed}.yaml'\n"
   ],
   "id": "5b033f6f2e30f880",
   "outputs": [],
   "execution_count": 124
  },
  {
   "metadata": {
    "ExecuteTime": {
     "end_time": "2025-01-23T13:29:58.275433Z",
     "start_time": "2025-01-23T13:29:58.272Z"
    }
   },
   "cell_type": "code",
   "source": [
    "# LLM MODE\n",
    "\n",
    "MODEL_NAME = 'sasrec'\n",
    "DATASET = 'beauty'\n",
    "EXPERIMENT_NAME = 'BEAUTY_INITIAL'\n",
    "SEED_FOLDER = 'other_seed'\n",
    "SPLIT_NAME = 'general'\n",
    "MODE = 'LLM'\n",
    "\n",
    "PROFILE_PATH_NAMES = ['gemma_long_small_single', 'gemma_long_large_single', \"gemma_long_large-umap_single\", 'gemma_short_large-umap_single']\n",
    "\n",
    "PREDEFINED_PARAMS = {\n",
    "    'epochs': 20,\n",
    "    'hidden_units': 256,\n",
    "    'num_blocks': 2,\n",
    "    'num_heads': 2,\n",
    "    'dropout_rate': 0.2,\n",
    "    'learning_rate': 0.0005,\n",
    "}\n",
    "\n",
    "CONFIG_PARAMS = {\n",
    "    'weighting_scheme': ['mean', 'attention'],\n",
    "    'alpha': [0.6, 0.5, 0.7],\n",
    "    'fine_tune_epoch': [6, 12],\n",
    "    'reconstruct_loss': ['MSE', 'RMSE'],\n",
    "    'reconstruction_layer': [1,2],\n",
    "    'weight_scale': [0.1],\n",
    "    'use_down_scale': [True, False],\n",
    "    'use_upscale': [False],\n",
    "    'multi_profile': [False],\n",
    "    'multi_profile_aggr_scheme': ['mean'],\n",
    "    # 'multi_profile': [True, False],\n",
    "    # 'multi_profile_aggr_scheme': ['mean', 'attention'],\n",
    "    'seed': [42] if SEED_FOLDER == 'single_seed' else [1, 256],\n",
    "}\n",
    "\n",
    "CONFIG_TEMPLATE_PATH = f'experiments-2_0/configs/{MODEL_NAME}/template/llm.yaml'\n",
    "SAVE_FILE_TEMPLATE = '{weighting_scheme}-{alpha}-{fine_tune_epoch}-{reconstruct_loss}-{reconstruction_layer}-{weight_scale}-{use_down_scale}-{seed}.yaml'"
   ],
   "id": "9bb9feeaba4dc37",
   "outputs": [],
   "execution_count": 129
  },
  {
   "metadata": {
    "ExecuteTime": {
     "end_time": "2025-01-23T13:29:58.915961Z",
     "start_time": "2025-01-23T13:29:58.911076Z"
    }
   },
   "cell_type": "code",
   "source": [
    "ARTEFACT_PATH = f'results/{MODEL_NAME}/{DATASET}/{EXPERIMENT_NAME}/{SEED_FOLDER}'\n",
    "CONFIG_PATH = f'experiments-2_0/configs/{MODEL_NAME}/{DATASET}/{EXPERIMENT_NAME}/{SEED_FOLDER}'\n",
    "BASH_PATH = f'experiments-2_0/bash/{MODEL_NAME}/{DATASET}/{EXPERIMENT_NAME}/{SEED_FOLDER}'\n",
    "SBATCH_PATH = f'experiments-2_0/sbatch/{MODEL_NAME}/{DATASET}/{EXPERIMENT_NAME}/{SEED_FOLDER}'\n",
    "\n",
    "SAVE_CONFIG_FILE = os.path.join(CONFIG_PATH, SAVE_FILE_TEMPLATE)\n",
    "\n",
    "# creation of folders\n",
    "os.makedirs(ARTEFACT_PATH, exist_ok=True)\n",
    "os.makedirs(CONFIG_PATH, exist_ok=True)\n",
    "os.makedirs(BASH_PATH, exist_ok=True)\n",
    "os.makedirs(SBATCH_PATH, exist_ok=True)\n",
    "\n",
    "FILE_MAPPING = read_json(os.path.join(FILE_MAPPING_PATH, f'{DATASET}.json'))\n",
    "\n",
    "# add to predefined params the values about dataset\n",
    "PREDEFINED_PARAMS.update({\n",
    "    'profile_train_sequences': FILE_MAPPING[SPLIT_NAME]['profile_train_sequences'],\n",
    "    'finetune_train_sequences': FILE_MAPPING[SPLIT_NAME]['finetune_train_sequences'],\n",
    "    'valid_sequences': FILE_MAPPING[SPLIT_NAME]['valid_sequences'],\n",
    "    'test_sequences': FILE_MAPPING[SPLIT_NAME]['test_sequences'],\n",
    "    'mappings': FILE_MAPPING[SPLIT_NAME]['mappings'],\n",
    "    'counts': FILE_MAPPING[SPLIT_NAME]['counts'],\n",
    "    'experiment_name': EXPERIMENT_NAME,\n",
    "})\n",
    "\n",
    "# add different profiles\n",
    "CONFIG_PARAMS.update({\n",
    "    'user_profile_embeddings_files': [None] if PROFILE_PATH_NAMES is None else\n",
    "        [FILE_MAPPING[SPLIT_NAME]['user_profile_embeddings_files'][profile_name] for profile_name in PROFILE_PATH_NAMES]\n",
    "})\n",
    "\n",
    "#--------------------"
   ],
   "id": "c6f0c91761a2e89b",
   "outputs": [],
   "execution_count": 130
  },
  {
   "metadata": {
    "ExecuteTime": {
     "end_time": "2025-01-23T13:29:59.643215Z",
     "start_time": "2025-01-23T13:29:59.638813Z"
    }
   },
   "cell_type": "code",
   "source": [
    "all_config_params = generate_config_params()\n",
    "N_CONFS_PER_BASH = 20\n",
    "TIME_TO_TAKE = '0-10:0'\n",
    "\n",
    "print('Number of configs:', len(all_config_params))\n",
    "print(len(create_list_of_lists(N_CONFS_PER_BASH, len(all_config_params))))"
   ],
   "id": "972af78d863256e6",
   "outputs": [
    {
     "name": "stdout",
     "output_type": "stream",
     "text": [
      "Number of configs: 576\n",
      "29\n"
     ]
    }
   ],
   "execution_count": 131
  },
  {
   "metadata": {
    "ExecuteTime": {
     "end_time": "2025-01-23T13:30:00.610327Z",
     "start_time": "2025-01-23T13:30:00.508835Z"
    }
   },
   "cell_type": "code",
   "source": [
    "create_config_files(all_config_params)\n",
    "create_bash_files(all_config_params, n_confs_per_bash=N_CONFS_PER_BASH)\n",
    "create_sbatch_files()"
   ],
   "id": "aacb7ca249cbd439",
   "outputs": [
    {
     "name": "stdout",
     "output_type": "stream",
     "text": [
      "29\n"
     ]
    }
   ],
   "execution_count": 132
  },
  {
   "metadata": {
    "ExecuteTime": {
     "end_time": "2025-01-23T13:30:03.906764Z",
     "start_time": "2025-01-23T13:30:03.904261Z"
    }
   },
   "cell_type": "code",
   "source": [
    "for file in os.listdir(SBATCH_PATH):\n",
    "    print('sbatch', SBATCH_PATH+'/'+file)"
   ],
   "id": "6c7edf6c22cc534a",
   "outputs": [
    {
     "name": "stdout",
     "output_type": "stream",
     "text": [
      "sbatch experiments-2_0/sbatch/sasrec/beauty/BEAUTY_INITIAL/other_seed/380-399.sbatch\n",
      "sbatch experiments-2_0/sbatch/sasrec/beauty/BEAUTY_INITIAL/other_seed/60-79.sbatch\n",
      "sbatch experiments-2_0/sbatch/sasrec/beauty/BEAUTY_INITIAL/other_seed/220-239.sbatch\n",
      "sbatch experiments-2_0/sbatch/sasrec/beauty/BEAUTY_INITIAL/other_seed/460-479.sbatch\n",
      "sbatch experiments-2_0/sbatch/sasrec/beauty/BEAUTY_INITIAL/other_seed/160-179.sbatch\n",
      "sbatch experiments-2_0/sbatch/sasrec/beauty/BEAUTY_INITIAL/other_seed/40-59.sbatch\n",
      "sbatch experiments-2_0/sbatch/sasrec/beauty/BEAUTY_INITIAL/other_seed/280-299.sbatch\n",
      "sbatch experiments-2_0/sbatch/sasrec/beauty/BEAUTY_INITIAL/other_seed/320-339.sbatch\n",
      "sbatch experiments-2_0/sbatch/sasrec/beauty/BEAUTY_INITIAL/other_seed/180-199.sbatch\n",
      "sbatch experiments-2_0/sbatch/sasrec/beauty/BEAUTY_INITIAL/other_seed/20-39.sbatch\n",
      "sbatch experiments-2_0/sbatch/sasrec/beauty/BEAUTY_INITIAL/other_seed/260-279.sbatch\n",
      "sbatch experiments-2_0/sbatch/sasrec/beauty/BEAUTY_INITIAL/other_seed/0-19.sbatch\n",
      "sbatch experiments-2_0/sbatch/sasrec/beauty/BEAUTY_INITIAL/other_seed/420-439.sbatch\n",
      "sbatch experiments-2_0/sbatch/sasrec/beauty/BEAUTY_INITIAL/other_seed/80-99.sbatch\n",
      "sbatch experiments-2_0/sbatch/sasrec/beauty/BEAUTY_INITIAL/other_seed/120-139.sbatch\n",
      "sbatch experiments-2_0/sbatch/sasrec/beauty/BEAUTY_INITIAL/other_seed/480-499.sbatch\n",
      "sbatch experiments-2_0/sbatch/sasrec/beauty/BEAUTY_INITIAL/other_seed/520-539.sbatch\n",
      "sbatch experiments-2_0/sbatch/sasrec/beauty/BEAUTY_INITIAL/other_seed/360-379.sbatch\n",
      "sbatch experiments-2_0/sbatch/sasrec/beauty/BEAUTY_INITIAL/other_seed/140-159.sbatch\n",
      "sbatch experiments-2_0/sbatch/sasrec/beauty/BEAUTY_INITIAL/other_seed/540-559.sbatch\n",
      "sbatch experiments-2_0/sbatch/sasrec/beauty/BEAUTY_INITIAL/other_seed/560-576.sbatch\n",
      "sbatch experiments-2_0/sbatch/sasrec/beauty/BEAUTY_INITIAL/other_seed/300-319.sbatch\n",
      "sbatch experiments-2_0/sbatch/sasrec/beauty/BEAUTY_INITIAL/other_seed/200-219.sbatch\n",
      "sbatch experiments-2_0/sbatch/sasrec/beauty/BEAUTY_INITIAL/other_seed/440-459.sbatch\n",
      "sbatch experiments-2_0/sbatch/sasrec/beauty/BEAUTY_INITIAL/other_seed/100-119.sbatch\n",
      "sbatch experiments-2_0/sbatch/sasrec/beauty/BEAUTY_INITIAL/other_seed/500-519.sbatch\n",
      "sbatch experiments-2_0/sbatch/sasrec/beauty/BEAUTY_INITIAL/other_seed/340-359.sbatch\n",
      "sbatch experiments-2_0/sbatch/sasrec/beauty/BEAUTY_INITIAL/other_seed/240-259.sbatch\n",
      "sbatch experiments-2_0/sbatch/sasrec/beauty/BEAUTY_INITIAL/other_seed/400-419.sbatch\n"
     ]
    }
   ],
   "execution_count": 133
  },
  {
   "metadata": {},
   "cell_type": "code",
   "outputs": [],
   "execution_count": null,
   "source": "",
   "id": "ef4322557d7c76ed"
  }
 ],
 "metadata": {
  "kernelspec": {
   "display_name": "Python 3",
   "language": "python",
   "name": "python3"
  },
  "language_info": {
   "codemirror_mode": {
    "name": "ipython",
    "version": 2
   },
   "file_extension": ".py",
   "mimetype": "text/x-python",
   "name": "python",
   "nbconvert_exporter": "python",
   "pygments_lexer": "ipython2",
   "version": "2.7.6"
  }
 },
 "nbformat": 4,
 "nbformat_minor": 5
}
