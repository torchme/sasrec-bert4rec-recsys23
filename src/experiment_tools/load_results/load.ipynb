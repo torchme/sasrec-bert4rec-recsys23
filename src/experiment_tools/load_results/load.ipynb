{
 "cells": [
  {
   "metadata": {
    "ExecuteTime": {
     "end_time": "2025-01-25T12:03:29.174699Z",
     "start_time": "2025-01-25T12:03:29.167801Z"
    }
   },
   "cell_type": "code",
   "source": "%cd ../../../",
   "id": "6b3d4939757919e9",
   "outputs": [
    {
     "name": "stdout",
     "output_type": "stream",
     "text": [
      "/Users/nseverin/MyData/Projects/Science/LLM/sasrec-bert4rec-recsys23\n"
     ]
    },
    {
     "name": "stderr",
     "output_type": "stream",
     "text": [
      "/Users/nseverin/MyData/Projects/Science/LLM/sasrec-bert4rec-recsys23/venv/lib/python3.11/site-packages/IPython/core/magics/osm.py:417: UserWarning: This is now an optional IPython functionality, setting dhist requires you to install the `pickleshare` library.\n",
      "  self.shell.db['dhist'] = compress_dhist(dhist)[-100:]\n"
     ]
    }
   ],
   "execution_count": 1
  },
  {
   "metadata": {
    "ExecuteTime": {
     "end_time": "2025-01-25T11:56:06.239934Z",
     "start_time": "2025-01-25T11:56:06.236177Z"
    }
   },
   "cell_type": "code",
   "source": [
    "MODEL_NAME = 'sasrec'\n",
    "DATASET = 'beauty'\n",
    "EXPERIMENT_NAME = 'BEAUTY_INITIAL'\n",
    "SEED_FOLDER = 'other_seed'\n",
    "SPLIT_NAME = 'general'\n",
    "MODE = 'LLM'\n",
    "\n",
    "REMOTE_RESULT_PATH = f'results/{MODEL_NAME}/{DATASET}/{EXPERIMENT_NAME}/{SEED_FOLDER}'"
   ],
   "id": "33bebc8cc1ad0234",
   "outputs": [],
   "execution_count": 4
  },
  {
   "metadata": {
    "ExecuteTime": {
     "end_time": "2025-01-25T11:56:20.555793Z",
     "start_time": "2025-01-25T11:56:08.804281Z"
    }
   },
   "cell_type": "code",
   "source": [
    "import paramiko\n",
    "from scp import SCPClient\n",
    "import os\n",
    "\n",
    "\n",
    "hostname = \"cluster.hpc.hse.ru\"\n",
    "username = \"nseverin\"\n",
    "password = \"N$P?(m^S\"\n",
    "port = 2222\n",
    "\n",
    "REMOTE_PATH = \"/home/nseverin/recsys_exps_help/sasrec-bert4rec-recsys23/\" + REMOTE_RESULT_PATH\n",
    "\n",
    "\n",
    "client = paramiko.SSHClient()\n",
    "client.set_missing_host_key_policy(paramiko.AutoAddPolicy())\n",
    "client.connect(hostname, username=username, password=password, port=port)\n",
    "\n",
    "sftp = client.open_sftp()\n",
    "files = sftp.listdir(REMOTE_PATH)\n",
    "sftp.close()\n",
    "client.close()\n",
    "\n",
    "print(files)\n",
    "\n",
    "result_inds = [x for x in files if x.startswith('result')]"
   ],
   "id": "9f9fc01e722a624f",
   "outputs": [
    {
     "name": "stdout",
     "output_type": "stream",
     "text": [
      "['error2351680.out', 'result2351684.out', 'error2351678.out', 'error2351674.out', 'result2351679.out', 'error2351682.out', 'result2351697.out', 'result2351687.out', 'error2351688.out', 'result2351672.out', 'result2351677.out', 'error2351675.out', 'error2351672.out', 'error2351684.out', 'result2351683.out', 'result2351669.out', 'error2351671.out', 'result2351686.out', 'error2351673.out', 'error2351696.out', 'error2351693.out', 'result2351670.out', 'result2351689.out', 'error2351683.out', 'error2351691.out', 'error2351697.out', 'result2351680.out', 'error2351679.out', 'result2351694.out', 'result2351674.out', 'result2351671.out', 'error2351689.out', 'result2351688.out', 'result2351695.out', 'result2351693.out', 'result2351682.out', 'result2351673.out', 'error2351694.out', 'error2351669.out', 'result2351681.out', 'result2351692.out', 'error2351670.out', 'result2351696.out', 'error2351692.out', 'error2351690.out', 'result2351675.out', 'result2351676.out', 'error2351687.out', 'result2351690.out', 'result2351678.out', 'error2351686.out', 'result2351691.out', 'error2351685.out', 'error2351681.out', 'error2351677.out', 'result2351685.out', 'error2351695.out', 'error2351676.out']\n"
     ]
    }
   ],
   "execution_count": 5
  },
  {
   "metadata": {
    "ExecuteTime": {
     "end_time": "2025-01-25T11:56:22.752608Z",
     "start_time": "2025-01-25T11:56:22.747442Z"
    }
   },
   "cell_type": "code",
   "source": "result_inds",
   "id": "94edfa3be1ad4611",
   "outputs": [
    {
     "data": {
      "text/plain": [
       "['result2351684.out',\n",
       " 'result2351679.out',\n",
       " 'result2351697.out',\n",
       " 'result2351687.out',\n",
       " 'result2351672.out',\n",
       " 'result2351677.out',\n",
       " 'result2351683.out',\n",
       " 'result2351669.out',\n",
       " 'result2351686.out',\n",
       " 'result2351670.out',\n",
       " 'result2351689.out',\n",
       " 'result2351680.out',\n",
       " 'result2351694.out',\n",
       " 'result2351674.out',\n",
       " 'result2351671.out',\n",
       " 'result2351688.out',\n",
       " 'result2351695.out',\n",
       " 'result2351693.out',\n",
       " 'result2351682.out',\n",
       " 'result2351673.out',\n",
       " 'result2351681.out',\n",
       " 'result2351692.out',\n",
       " 'result2351696.out',\n",
       " 'result2351675.out',\n",
       " 'result2351676.out',\n",
       " 'result2351690.out',\n",
       " 'result2351678.out',\n",
       " 'result2351691.out',\n",
       " 'result2351685.out']"
      ]
     },
     "execution_count": 6,
     "metadata": {},
     "output_type": "execute_result"
    }
   ],
   "execution_count": 6
  },
  {
   "metadata": {
    "ExecuteTime": {
     "end_time": "2025-01-25T11:56:25.987680Z",
     "start_time": "2025-01-25T11:56:25.984419Z"
    }
   },
   "cell_type": "code",
   "source": [
    "def download_files_via_scp(server, port, username, password, remote_files, local_directory):\n",
    "    \"\"\"\n",
    "    Downloads files from a remote server via SCP.\n",
    "\n",
    "    :param server: IP or hostname of the remote server\n",
    "    :param port: Port number for the SSH connection (default: 22)\n",
    "    :param username: Username for the SSH connection\n",
    "    :param password: Password for the SSH connection\n",
    "    :param remote_files: List of remote file paths to download\n",
    "    :param local_directory: Local directory to save the downloaded files\n",
    "    \"\"\"\n",
    "    try:\n",
    "        # Create an SSH client\n",
    "        ssh = paramiko.SSHClient()\n",
    "        ssh.set_missing_host_key_policy(paramiko.AutoAddPolicy())\n",
    "        ssh.connect(server, port, username, password)\n",
    "\n",
    "        # Create an SCP client\n",
    "        with SCPClient(ssh.get_transport()) as scp:\n",
    "            for remote_file in remote_files:\n",
    "                print(f\"Downloading {remote_file}...\")\n",
    "                # Download the file\n",
    "                scp.get(remote_file, local_path=os.path.join(local_directory, os.path.basename(remote_file)))\n",
    "                print(f\"Downloaded {remote_file} to {local_directory}\")\n",
    "\n",
    "    except Exception as e:\n",
    "        print(f\"An error occurred: {e}\")\n",
    "    finally:\n",
    "        # Close the SSH connection\n",
    "        ssh.close()"
   ],
   "id": "20ea1ca20eae438f",
   "outputs": [],
   "execution_count": 7
  },
  {
   "metadata": {
    "ExecuteTime": {
     "end_time": "2025-01-25T11:57:19.648107Z",
     "start_time": "2025-01-25T11:56:28.731151Z"
    }
   },
   "cell_type": "code",
   "source": [
    "server = \"cluster.hpc.hse.ru\"  # Replace with your server IP or hostname\n",
    "port = 2222  # SSH port, default is 22\n",
    "username = \"nseverin\"  # Replace with your username\n",
    "password = \"N$P?(m^S\"  # Replace with your password\n",
    "\n",
    "SBATCH_PATH = f'results/{MODEL_NAME}/{DATASET}/{EXPERIMENT_NAME}/{SEED_FOLDER}'\n",
    "\n",
    "\n",
    "remote_files = [os.path.join(REMOTE_PATH, result_file) for result_file in result_inds] \n",
    "\n",
    "local_directory = f\"experiments-2_0/results/{MODEL_NAME}/{DATASET}/{EXPERIMENT_NAME}/{SEED_FOLDER}\" \n",
    "\n",
    "# Ensure the local directory exists\n",
    "if not os.path.exists(local_directory):\n",
    "    os.makedirs(local_directory)\n",
    "\n",
    "# Download files\n",
    "download_files_via_scp(server, port, username, password, remote_files, local_directory)"
   ],
   "id": "345f7f392d3b34ac",
   "outputs": [
    {
     "name": "stdout",
     "output_type": "stream",
     "text": [
      "Downloading /home/nseverin/recsys_exps_help/sasrec-bert4rec-recsys23/results/sasrec/beauty/BEAUTY_INITIAL/other_seed/result2351684.out...\n",
      "Downloaded /home/nseverin/recsys_exps_help/sasrec-bert4rec-recsys23/results/sasrec/beauty/BEAUTY_INITIAL/other_seed/result2351684.out to experiments-2_0/results/sasrec/beauty/BEAUTY_INITIAL/other_seed\n",
      "Downloading /home/nseverin/recsys_exps_help/sasrec-bert4rec-recsys23/results/sasrec/beauty/BEAUTY_INITIAL/other_seed/result2351679.out...\n",
      "Downloaded /home/nseverin/recsys_exps_help/sasrec-bert4rec-recsys23/results/sasrec/beauty/BEAUTY_INITIAL/other_seed/result2351679.out to experiments-2_0/results/sasrec/beauty/BEAUTY_INITIAL/other_seed\n",
      "Downloading /home/nseverin/recsys_exps_help/sasrec-bert4rec-recsys23/results/sasrec/beauty/BEAUTY_INITIAL/other_seed/result2351697.out...\n",
      "Downloaded /home/nseverin/recsys_exps_help/sasrec-bert4rec-recsys23/results/sasrec/beauty/BEAUTY_INITIAL/other_seed/result2351697.out to experiments-2_0/results/sasrec/beauty/BEAUTY_INITIAL/other_seed\n",
      "Downloading /home/nseverin/recsys_exps_help/sasrec-bert4rec-recsys23/results/sasrec/beauty/BEAUTY_INITIAL/other_seed/result2351687.out...\n",
      "Downloaded /home/nseverin/recsys_exps_help/sasrec-bert4rec-recsys23/results/sasrec/beauty/BEAUTY_INITIAL/other_seed/result2351687.out to experiments-2_0/results/sasrec/beauty/BEAUTY_INITIAL/other_seed\n",
      "Downloading /home/nseverin/recsys_exps_help/sasrec-bert4rec-recsys23/results/sasrec/beauty/BEAUTY_INITIAL/other_seed/result2351672.out...\n",
      "Downloaded /home/nseverin/recsys_exps_help/sasrec-bert4rec-recsys23/results/sasrec/beauty/BEAUTY_INITIAL/other_seed/result2351672.out to experiments-2_0/results/sasrec/beauty/BEAUTY_INITIAL/other_seed\n",
      "Downloading /home/nseverin/recsys_exps_help/sasrec-bert4rec-recsys23/results/sasrec/beauty/BEAUTY_INITIAL/other_seed/result2351677.out...\n",
      "Downloaded /home/nseverin/recsys_exps_help/sasrec-bert4rec-recsys23/results/sasrec/beauty/BEAUTY_INITIAL/other_seed/result2351677.out to experiments-2_0/results/sasrec/beauty/BEAUTY_INITIAL/other_seed\n",
      "Downloading /home/nseverin/recsys_exps_help/sasrec-bert4rec-recsys23/results/sasrec/beauty/BEAUTY_INITIAL/other_seed/result2351683.out...\n",
      "Downloaded /home/nseverin/recsys_exps_help/sasrec-bert4rec-recsys23/results/sasrec/beauty/BEAUTY_INITIAL/other_seed/result2351683.out to experiments-2_0/results/sasrec/beauty/BEAUTY_INITIAL/other_seed\n",
      "Downloading /home/nseverin/recsys_exps_help/sasrec-bert4rec-recsys23/results/sasrec/beauty/BEAUTY_INITIAL/other_seed/result2351669.out...\n",
      "Downloaded /home/nseverin/recsys_exps_help/sasrec-bert4rec-recsys23/results/sasrec/beauty/BEAUTY_INITIAL/other_seed/result2351669.out to experiments-2_0/results/sasrec/beauty/BEAUTY_INITIAL/other_seed\n",
      "Downloading /home/nseverin/recsys_exps_help/sasrec-bert4rec-recsys23/results/sasrec/beauty/BEAUTY_INITIAL/other_seed/result2351686.out...\n",
      "Downloaded /home/nseverin/recsys_exps_help/sasrec-bert4rec-recsys23/results/sasrec/beauty/BEAUTY_INITIAL/other_seed/result2351686.out to experiments-2_0/results/sasrec/beauty/BEAUTY_INITIAL/other_seed\n",
      "Downloading /home/nseverin/recsys_exps_help/sasrec-bert4rec-recsys23/results/sasrec/beauty/BEAUTY_INITIAL/other_seed/result2351670.out...\n",
      "Downloaded /home/nseverin/recsys_exps_help/sasrec-bert4rec-recsys23/results/sasrec/beauty/BEAUTY_INITIAL/other_seed/result2351670.out to experiments-2_0/results/sasrec/beauty/BEAUTY_INITIAL/other_seed\n",
      "Downloading /home/nseverin/recsys_exps_help/sasrec-bert4rec-recsys23/results/sasrec/beauty/BEAUTY_INITIAL/other_seed/result2351689.out...\n",
      "Downloaded /home/nseverin/recsys_exps_help/sasrec-bert4rec-recsys23/results/sasrec/beauty/BEAUTY_INITIAL/other_seed/result2351689.out to experiments-2_0/results/sasrec/beauty/BEAUTY_INITIAL/other_seed\n",
      "Downloading /home/nseverin/recsys_exps_help/sasrec-bert4rec-recsys23/results/sasrec/beauty/BEAUTY_INITIAL/other_seed/result2351680.out...\n",
      "Downloaded /home/nseverin/recsys_exps_help/sasrec-bert4rec-recsys23/results/sasrec/beauty/BEAUTY_INITIAL/other_seed/result2351680.out to experiments-2_0/results/sasrec/beauty/BEAUTY_INITIAL/other_seed\n",
      "Downloading /home/nseverin/recsys_exps_help/sasrec-bert4rec-recsys23/results/sasrec/beauty/BEAUTY_INITIAL/other_seed/result2351694.out...\n",
      "Downloaded /home/nseverin/recsys_exps_help/sasrec-bert4rec-recsys23/results/sasrec/beauty/BEAUTY_INITIAL/other_seed/result2351694.out to experiments-2_0/results/sasrec/beauty/BEAUTY_INITIAL/other_seed\n",
      "Downloading /home/nseverin/recsys_exps_help/sasrec-bert4rec-recsys23/results/sasrec/beauty/BEAUTY_INITIAL/other_seed/result2351674.out...\n",
      "Downloaded /home/nseverin/recsys_exps_help/sasrec-bert4rec-recsys23/results/sasrec/beauty/BEAUTY_INITIAL/other_seed/result2351674.out to experiments-2_0/results/sasrec/beauty/BEAUTY_INITIAL/other_seed\n",
      "Downloading /home/nseverin/recsys_exps_help/sasrec-bert4rec-recsys23/results/sasrec/beauty/BEAUTY_INITIAL/other_seed/result2351671.out...\n",
      "Downloaded /home/nseverin/recsys_exps_help/sasrec-bert4rec-recsys23/results/sasrec/beauty/BEAUTY_INITIAL/other_seed/result2351671.out to experiments-2_0/results/sasrec/beauty/BEAUTY_INITIAL/other_seed\n",
      "Downloading /home/nseverin/recsys_exps_help/sasrec-bert4rec-recsys23/results/sasrec/beauty/BEAUTY_INITIAL/other_seed/result2351688.out...\n",
      "Downloaded /home/nseverin/recsys_exps_help/sasrec-bert4rec-recsys23/results/sasrec/beauty/BEAUTY_INITIAL/other_seed/result2351688.out to experiments-2_0/results/sasrec/beauty/BEAUTY_INITIAL/other_seed\n",
      "Downloading /home/nseverin/recsys_exps_help/sasrec-bert4rec-recsys23/results/sasrec/beauty/BEAUTY_INITIAL/other_seed/result2351695.out...\n",
      "Downloaded /home/nseverin/recsys_exps_help/sasrec-bert4rec-recsys23/results/sasrec/beauty/BEAUTY_INITIAL/other_seed/result2351695.out to experiments-2_0/results/sasrec/beauty/BEAUTY_INITIAL/other_seed\n",
      "Downloading /home/nseverin/recsys_exps_help/sasrec-bert4rec-recsys23/results/sasrec/beauty/BEAUTY_INITIAL/other_seed/result2351693.out...\n",
      "Downloaded /home/nseverin/recsys_exps_help/sasrec-bert4rec-recsys23/results/sasrec/beauty/BEAUTY_INITIAL/other_seed/result2351693.out to experiments-2_0/results/sasrec/beauty/BEAUTY_INITIAL/other_seed\n",
      "Downloading /home/nseverin/recsys_exps_help/sasrec-bert4rec-recsys23/results/sasrec/beauty/BEAUTY_INITIAL/other_seed/result2351682.out...\n",
      "Downloaded /home/nseverin/recsys_exps_help/sasrec-bert4rec-recsys23/results/sasrec/beauty/BEAUTY_INITIAL/other_seed/result2351682.out to experiments-2_0/results/sasrec/beauty/BEAUTY_INITIAL/other_seed\n",
      "Downloading /home/nseverin/recsys_exps_help/sasrec-bert4rec-recsys23/results/sasrec/beauty/BEAUTY_INITIAL/other_seed/result2351673.out...\n",
      "Downloaded /home/nseverin/recsys_exps_help/sasrec-bert4rec-recsys23/results/sasrec/beauty/BEAUTY_INITIAL/other_seed/result2351673.out to experiments-2_0/results/sasrec/beauty/BEAUTY_INITIAL/other_seed\n",
      "Downloading /home/nseverin/recsys_exps_help/sasrec-bert4rec-recsys23/results/sasrec/beauty/BEAUTY_INITIAL/other_seed/result2351681.out...\n",
      "Downloaded /home/nseverin/recsys_exps_help/sasrec-bert4rec-recsys23/results/sasrec/beauty/BEAUTY_INITIAL/other_seed/result2351681.out to experiments-2_0/results/sasrec/beauty/BEAUTY_INITIAL/other_seed\n",
      "Downloading /home/nseverin/recsys_exps_help/sasrec-bert4rec-recsys23/results/sasrec/beauty/BEAUTY_INITIAL/other_seed/result2351692.out...\n",
      "Downloaded /home/nseverin/recsys_exps_help/sasrec-bert4rec-recsys23/results/sasrec/beauty/BEAUTY_INITIAL/other_seed/result2351692.out to experiments-2_0/results/sasrec/beauty/BEAUTY_INITIAL/other_seed\n",
      "Downloading /home/nseverin/recsys_exps_help/sasrec-bert4rec-recsys23/results/sasrec/beauty/BEAUTY_INITIAL/other_seed/result2351696.out...\n",
      "Downloaded /home/nseverin/recsys_exps_help/sasrec-bert4rec-recsys23/results/sasrec/beauty/BEAUTY_INITIAL/other_seed/result2351696.out to experiments-2_0/results/sasrec/beauty/BEAUTY_INITIAL/other_seed\n",
      "Downloading /home/nseverin/recsys_exps_help/sasrec-bert4rec-recsys23/results/sasrec/beauty/BEAUTY_INITIAL/other_seed/result2351675.out...\n",
      "Downloaded /home/nseverin/recsys_exps_help/sasrec-bert4rec-recsys23/results/sasrec/beauty/BEAUTY_INITIAL/other_seed/result2351675.out to experiments-2_0/results/sasrec/beauty/BEAUTY_INITIAL/other_seed\n",
      "Downloading /home/nseverin/recsys_exps_help/sasrec-bert4rec-recsys23/results/sasrec/beauty/BEAUTY_INITIAL/other_seed/result2351676.out...\n",
      "Downloaded /home/nseverin/recsys_exps_help/sasrec-bert4rec-recsys23/results/sasrec/beauty/BEAUTY_INITIAL/other_seed/result2351676.out to experiments-2_0/results/sasrec/beauty/BEAUTY_INITIAL/other_seed\n",
      "Downloading /home/nseverin/recsys_exps_help/sasrec-bert4rec-recsys23/results/sasrec/beauty/BEAUTY_INITIAL/other_seed/result2351690.out...\n",
      "Downloaded /home/nseverin/recsys_exps_help/sasrec-bert4rec-recsys23/results/sasrec/beauty/BEAUTY_INITIAL/other_seed/result2351690.out to experiments-2_0/results/sasrec/beauty/BEAUTY_INITIAL/other_seed\n",
      "Downloading /home/nseverin/recsys_exps_help/sasrec-bert4rec-recsys23/results/sasrec/beauty/BEAUTY_INITIAL/other_seed/result2351678.out...\n",
      "Downloaded /home/nseverin/recsys_exps_help/sasrec-bert4rec-recsys23/results/sasrec/beauty/BEAUTY_INITIAL/other_seed/result2351678.out to experiments-2_0/results/sasrec/beauty/BEAUTY_INITIAL/other_seed\n",
      "Downloading /home/nseverin/recsys_exps_help/sasrec-bert4rec-recsys23/results/sasrec/beauty/BEAUTY_INITIAL/other_seed/result2351691.out...\n",
      "Downloaded /home/nseverin/recsys_exps_help/sasrec-bert4rec-recsys23/results/sasrec/beauty/BEAUTY_INITIAL/other_seed/result2351691.out to experiments-2_0/results/sasrec/beauty/BEAUTY_INITIAL/other_seed\n",
      "Downloading /home/nseverin/recsys_exps_help/sasrec-bert4rec-recsys23/results/sasrec/beauty/BEAUTY_INITIAL/other_seed/result2351685.out...\n",
      "Downloaded /home/nseverin/recsys_exps_help/sasrec-bert4rec-recsys23/results/sasrec/beauty/BEAUTY_INITIAL/other_seed/result2351685.out to experiments-2_0/results/sasrec/beauty/BEAUTY_INITIAL/other_seed\n"
     ]
    }
   ],
   "execution_count": 8
  },
  {
   "metadata": {},
   "cell_type": "code",
   "outputs": [],
   "execution_count": null,
   "source": "",
   "id": "13ac23521fc02ec2"
  }
 ],
 "metadata": {
  "kernelspec": {
   "display_name": "Python 3",
   "language": "python",
   "name": "python3"
  },
  "language_info": {
   "codemirror_mode": {
    "name": "ipython",
    "version": 2
   },
   "file_extension": ".py",
   "mimetype": "text/x-python",
   "name": "python",
   "nbconvert_exporter": "python",
   "pygments_lexer": "ipython2",
   "version": "2.7.6"
  }
 },
 "nbformat": 4,
 "nbformat_minor": 5
}
