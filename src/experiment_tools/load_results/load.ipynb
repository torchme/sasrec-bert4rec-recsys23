{
 "cells": [
  {
   "metadata": {
    "ExecuteTime": {
     "end_time": "2025-01-26T18:50:15.319708Z",
     "start_time": "2025-01-26T18:50:15.313469Z"
    }
   },
   "cell_type": "code",
   "source": "%cd ../../../",
   "id": "6b3d4939757919e9",
   "outputs": [
    {
     "name": "stdout",
     "output_type": "stream",
     "text": [
      "/Users/nseverin/MyData/Projects/Science/LLM/sasrec-bert4rec-recsys23\n"
     ]
    },
    {
     "name": "stderr",
     "output_type": "stream",
     "text": [
      "/Users/nseverin/MyData/Projects/Science/LLM/sasrec-bert4rec-recsys23/venv/lib/python3.11/site-packages/IPython/core/magics/osm.py:417: UserWarning: This is now an optional IPython functionality, setting dhist requires you to install the `pickleshare` library.\n",
      "  self.shell.db['dhist'] = compress_dhist(dhist)[-100:]\n"
     ]
    }
   ],
   "execution_count": 1
  },
  {
   "metadata": {
    "ExecuteTime": {
     "end_time": "2025-01-26T18:50:54.554143Z",
     "start_time": "2025-01-26T18:50:54.550968Z"
    }
   },
   "cell_type": "code",
   "source": [
    "MODEL_NAME = 'sasrec'\n",
    "DATASET = 'beauty'\n",
    "EXPERIMENT_NAME = 'BEAUTY_INITIAL'\n",
    "SEED_FOLDER = 'single_seed'\n",
    "SPLIT_NAME = 'general'\n",
    "MODE = 'LLM'\n",
    "\n",
    "REMOTE_RESULT_PATH = f'results/{MODEL_NAME}/{DATASET}/{EXPERIMENT_NAME}/{SEED_FOLDER}'"
   ],
   "id": "33bebc8cc1ad0234",
   "outputs": [],
   "execution_count": 3
  },
  {
   "metadata": {
    "ExecuteTime": {
     "end_time": "2025-01-26T18:51:10.360591Z",
     "start_time": "2025-01-26T18:51:05.888026Z"
    }
   },
   "cell_type": "code",
   "source": [
    "import paramiko\n",
    "from scp import SCPClient\n",
    "import os\n",
    "\n",
    "\n",
    "hostname = \"cluster.hpc.hse.ru\"\n",
    "username = \"nseverin\"\n",
    "password = \"N$P?(m^S\"\n",
    "port = 2222\n",
    "\n",
    "REMOTE_PATH = \"/home/nseverin/recsys_exps_help/sasrec-bert4rec-recsys23/\" + REMOTE_RESULT_PATH\n",
    "\n",
    "\n",
    "client = paramiko.SSHClient()\n",
    "client.set_missing_host_key_policy(paramiko.AutoAddPolicy())\n",
    "client.connect(hostname, username=username, password=password, port=port)\n",
    "\n",
    "sftp = client.open_sftp()\n",
    "files = sftp.listdir(REMOTE_PATH)\n",
    "sftp.close()\n",
    "client.close()\n",
    "\n",
    "print(files)\n",
    "\n",
    "result_inds = [x for x in files if x.startswith('result')]"
   ],
   "id": "9f9fc01e722a624f",
   "outputs": [
    {
     "name": "stdout",
     "output_type": "stream",
     "text": [
      "['error2355484.out', 'error2355485.out', 'result2355481.out', 'result2355484.out', 'result2355488.out', 'error2355486.out', 'error2355479.out', 'error2355488.out', 'error2355495.out', 'error2355490.out', 'result2355474.out', 'error2355476.out', 'error2355487.out', 'error2355470.out', 'error2355491.out', 'result2355475.out', 'error2355482.out', 'result2355473.out', 'result2355483.out', 'error2355472.out', 'result2355494.out', 'result2355493.out', 'error2355483.out', 'result2355489.out', 'result2355485.out', 'error2355480.out', 'result2355479.out', 'result2355482.out', 'result2355490.out', 'result2355491.out', 'result2355476.out', 'error2355493.out', 'result2355480.out', 'error2355475.out', 'error2355477.out', 'result2355487.out', 'result2355477.out', 'result2355492.out', 'error2355489.out', 'result2355478.out', 'result2355486.out', 'error2355471.out', 'error2355481.out', 'result2355471.out', 'error2355492.out', 'result2355472.out', 'result2355495.out', 'error2355474.out', 'result2355470.out', 'error2355473.out', 'error2355494.out', 'error2355478.out']\n"
     ]
    }
   ],
   "execution_count": 4
  },
  {
   "metadata": {
    "ExecuteTime": {
     "end_time": "2025-01-26T18:51:15.318197Z",
     "start_time": "2025-01-26T18:51:15.313404Z"
    }
   },
   "cell_type": "code",
   "source": "result_inds",
   "id": "94edfa3be1ad4611",
   "outputs": [
    {
     "data": {
      "text/plain": [
       "['result2355481.out',\n",
       " 'result2355484.out',\n",
       " 'result2355488.out',\n",
       " 'result2355474.out',\n",
       " 'result2355475.out',\n",
       " 'result2355473.out',\n",
       " 'result2355483.out',\n",
       " 'result2355494.out',\n",
       " 'result2355493.out',\n",
       " 'result2355489.out',\n",
       " 'result2355485.out',\n",
       " 'result2355479.out',\n",
       " 'result2355482.out',\n",
       " 'result2355490.out',\n",
       " 'result2355491.out',\n",
       " 'result2355476.out',\n",
       " 'result2355480.out',\n",
       " 'result2355487.out',\n",
       " 'result2355477.out',\n",
       " 'result2355492.out',\n",
       " 'result2355478.out',\n",
       " 'result2355486.out',\n",
       " 'result2355471.out',\n",
       " 'result2355472.out',\n",
       " 'result2355495.out',\n",
       " 'result2355470.out']"
      ]
     },
     "execution_count": 5,
     "metadata": {},
     "output_type": "execute_result"
    }
   ],
   "execution_count": 5
  },
  {
   "metadata": {
    "ExecuteTime": {
     "end_time": "2025-01-26T18:51:22.646278Z",
     "start_time": "2025-01-26T18:51:22.641902Z"
    }
   },
   "cell_type": "code",
   "source": [
    "def download_files_via_scp(server, port, username, password, remote_files, local_directory):\n",
    "    \"\"\"\n",
    "    Downloads files from a remote server via SCP.\n",
    "\n",
    "    :param server: IP or hostname of the remote server\n",
    "    :param port: Port number for the SSH connection (default: 22)\n",
    "    :param username: Username for the SSH connection\n",
    "    :param password: Password for the SSH connection\n",
    "    :param remote_files: List of remote file paths to download\n",
    "    :param local_directory: Local directory to save the downloaded files\n",
    "    \"\"\"\n",
    "    try:\n",
    "        # Create an SSH client\n",
    "        ssh = paramiko.SSHClient()\n",
    "        ssh.set_missing_host_key_policy(paramiko.AutoAddPolicy())\n",
    "        ssh.connect(server, port, username, password)\n",
    "\n",
    "        # Create an SCP client\n",
    "        with SCPClient(ssh.get_transport()) as scp:\n",
    "            for remote_file in remote_files:\n",
    "                print(f\"Downloading {remote_file}...\")\n",
    "                # Download the file\n",
    "                scp.get(remote_file, local_path=os.path.join(local_directory, os.path.basename(remote_file)))\n",
    "                print(f\"Downloaded {remote_file} to {local_directory}\")\n",
    "\n",
    "    except Exception as e:\n",
    "        print(f\"An error occurred: {e}\")\n",
    "    finally:\n",
    "        # Close the SSH connection\n",
    "        ssh.close()"
   ],
   "id": "20ea1ca20eae438f",
   "outputs": [],
   "execution_count": 6
  },
  {
   "metadata": {
    "ExecuteTime": {
     "end_time": "2025-01-26T18:52:15.109857Z",
     "start_time": "2025-01-26T18:51:24.201346Z"
    }
   },
   "cell_type": "code",
   "source": [
    "server = \"cluster.hpc.hse.ru\"  # Replace with your server IP or hostname\n",
    "port = 2222  # SSH port, default is 22\n",
    "username = \"nseverin\"  # Replace with your username\n",
    "password = \"N$P?(m^S\"  # Replace with your password\n",
    "\n",
    "SBATCH_PATH = f'results/{MODEL_NAME}/{DATASET}/{EXPERIMENT_NAME}/{SEED_FOLDER}'\n",
    "\n",
    "\n",
    "remote_files = [os.path.join(REMOTE_PATH, result_file) for result_file in result_inds] \n",
    "\n",
    "local_directory = f\"experiments-2_0/results/{MODEL_NAME}/{DATASET}/{EXPERIMENT_NAME}/{SEED_FOLDER}\" \n",
    "\n",
    "# Ensure the local directory exists\n",
    "if not os.path.exists(local_directory):\n",
    "    os.makedirs(local_directory)\n",
    "\n",
    "# Download files\n",
    "download_files_via_scp(server, port, username, password, remote_files, local_directory)"
   ],
   "id": "345f7f392d3b34ac",
   "outputs": [
    {
     "name": "stdout",
     "output_type": "stream",
     "text": [
      "Downloading /home/nseverin/recsys_exps_help/sasrec-bert4rec-recsys23/results/sasrec/beauty/BEAUTY_INITIAL/single_seed/result2355481.out...\n",
      "Downloaded /home/nseverin/recsys_exps_help/sasrec-bert4rec-recsys23/results/sasrec/beauty/BEAUTY_INITIAL/single_seed/result2355481.out to experiments-2_0/results/sasrec/beauty/BEAUTY_INITIAL/single_seed\n",
      "Downloading /home/nseverin/recsys_exps_help/sasrec-bert4rec-recsys23/results/sasrec/beauty/BEAUTY_INITIAL/single_seed/result2355484.out...\n",
      "Downloaded /home/nseverin/recsys_exps_help/sasrec-bert4rec-recsys23/results/sasrec/beauty/BEAUTY_INITIAL/single_seed/result2355484.out to experiments-2_0/results/sasrec/beauty/BEAUTY_INITIAL/single_seed\n",
      "Downloading /home/nseverin/recsys_exps_help/sasrec-bert4rec-recsys23/results/sasrec/beauty/BEAUTY_INITIAL/single_seed/result2355488.out...\n",
      "Downloaded /home/nseverin/recsys_exps_help/sasrec-bert4rec-recsys23/results/sasrec/beauty/BEAUTY_INITIAL/single_seed/result2355488.out to experiments-2_0/results/sasrec/beauty/BEAUTY_INITIAL/single_seed\n",
      "Downloading /home/nseverin/recsys_exps_help/sasrec-bert4rec-recsys23/results/sasrec/beauty/BEAUTY_INITIAL/single_seed/result2355474.out...\n",
      "Downloaded /home/nseverin/recsys_exps_help/sasrec-bert4rec-recsys23/results/sasrec/beauty/BEAUTY_INITIAL/single_seed/result2355474.out to experiments-2_0/results/sasrec/beauty/BEAUTY_INITIAL/single_seed\n",
      "Downloading /home/nseverin/recsys_exps_help/sasrec-bert4rec-recsys23/results/sasrec/beauty/BEAUTY_INITIAL/single_seed/result2355475.out...\n",
      "Downloaded /home/nseverin/recsys_exps_help/sasrec-bert4rec-recsys23/results/sasrec/beauty/BEAUTY_INITIAL/single_seed/result2355475.out to experiments-2_0/results/sasrec/beauty/BEAUTY_INITIAL/single_seed\n",
      "Downloading /home/nseverin/recsys_exps_help/sasrec-bert4rec-recsys23/results/sasrec/beauty/BEAUTY_INITIAL/single_seed/result2355473.out...\n",
      "Downloaded /home/nseverin/recsys_exps_help/sasrec-bert4rec-recsys23/results/sasrec/beauty/BEAUTY_INITIAL/single_seed/result2355473.out to experiments-2_0/results/sasrec/beauty/BEAUTY_INITIAL/single_seed\n",
      "Downloading /home/nseverin/recsys_exps_help/sasrec-bert4rec-recsys23/results/sasrec/beauty/BEAUTY_INITIAL/single_seed/result2355483.out...\n",
      "Downloaded /home/nseverin/recsys_exps_help/sasrec-bert4rec-recsys23/results/sasrec/beauty/BEAUTY_INITIAL/single_seed/result2355483.out to experiments-2_0/results/sasrec/beauty/BEAUTY_INITIAL/single_seed\n",
      "Downloading /home/nseverin/recsys_exps_help/sasrec-bert4rec-recsys23/results/sasrec/beauty/BEAUTY_INITIAL/single_seed/result2355494.out...\n",
      "Downloaded /home/nseverin/recsys_exps_help/sasrec-bert4rec-recsys23/results/sasrec/beauty/BEAUTY_INITIAL/single_seed/result2355494.out to experiments-2_0/results/sasrec/beauty/BEAUTY_INITIAL/single_seed\n",
      "Downloading /home/nseverin/recsys_exps_help/sasrec-bert4rec-recsys23/results/sasrec/beauty/BEAUTY_INITIAL/single_seed/result2355493.out...\n",
      "Downloaded /home/nseverin/recsys_exps_help/sasrec-bert4rec-recsys23/results/sasrec/beauty/BEAUTY_INITIAL/single_seed/result2355493.out to experiments-2_0/results/sasrec/beauty/BEAUTY_INITIAL/single_seed\n",
      "Downloading /home/nseverin/recsys_exps_help/sasrec-bert4rec-recsys23/results/sasrec/beauty/BEAUTY_INITIAL/single_seed/result2355489.out...\n",
      "Downloaded /home/nseverin/recsys_exps_help/sasrec-bert4rec-recsys23/results/sasrec/beauty/BEAUTY_INITIAL/single_seed/result2355489.out to experiments-2_0/results/sasrec/beauty/BEAUTY_INITIAL/single_seed\n",
      "Downloading /home/nseverin/recsys_exps_help/sasrec-bert4rec-recsys23/results/sasrec/beauty/BEAUTY_INITIAL/single_seed/result2355485.out...\n",
      "Downloaded /home/nseverin/recsys_exps_help/sasrec-bert4rec-recsys23/results/sasrec/beauty/BEAUTY_INITIAL/single_seed/result2355485.out to experiments-2_0/results/sasrec/beauty/BEAUTY_INITIAL/single_seed\n",
      "Downloading /home/nseverin/recsys_exps_help/sasrec-bert4rec-recsys23/results/sasrec/beauty/BEAUTY_INITIAL/single_seed/result2355479.out...\n",
      "Downloaded /home/nseverin/recsys_exps_help/sasrec-bert4rec-recsys23/results/sasrec/beauty/BEAUTY_INITIAL/single_seed/result2355479.out to experiments-2_0/results/sasrec/beauty/BEAUTY_INITIAL/single_seed\n",
      "Downloading /home/nseverin/recsys_exps_help/sasrec-bert4rec-recsys23/results/sasrec/beauty/BEAUTY_INITIAL/single_seed/result2355482.out...\n",
      "Downloaded /home/nseverin/recsys_exps_help/sasrec-bert4rec-recsys23/results/sasrec/beauty/BEAUTY_INITIAL/single_seed/result2355482.out to experiments-2_0/results/sasrec/beauty/BEAUTY_INITIAL/single_seed\n",
      "Downloading /home/nseverin/recsys_exps_help/sasrec-bert4rec-recsys23/results/sasrec/beauty/BEAUTY_INITIAL/single_seed/result2355490.out...\n",
      "Downloaded /home/nseverin/recsys_exps_help/sasrec-bert4rec-recsys23/results/sasrec/beauty/BEAUTY_INITIAL/single_seed/result2355490.out to experiments-2_0/results/sasrec/beauty/BEAUTY_INITIAL/single_seed\n",
      "Downloading /home/nseverin/recsys_exps_help/sasrec-bert4rec-recsys23/results/sasrec/beauty/BEAUTY_INITIAL/single_seed/result2355491.out...\n",
      "Downloaded /home/nseverin/recsys_exps_help/sasrec-bert4rec-recsys23/results/sasrec/beauty/BEAUTY_INITIAL/single_seed/result2355491.out to experiments-2_0/results/sasrec/beauty/BEAUTY_INITIAL/single_seed\n",
      "Downloading /home/nseverin/recsys_exps_help/sasrec-bert4rec-recsys23/results/sasrec/beauty/BEAUTY_INITIAL/single_seed/result2355476.out...\n",
      "Downloaded /home/nseverin/recsys_exps_help/sasrec-bert4rec-recsys23/results/sasrec/beauty/BEAUTY_INITIAL/single_seed/result2355476.out to experiments-2_0/results/sasrec/beauty/BEAUTY_INITIAL/single_seed\n",
      "Downloading /home/nseverin/recsys_exps_help/sasrec-bert4rec-recsys23/results/sasrec/beauty/BEAUTY_INITIAL/single_seed/result2355480.out...\n",
      "Downloaded /home/nseverin/recsys_exps_help/sasrec-bert4rec-recsys23/results/sasrec/beauty/BEAUTY_INITIAL/single_seed/result2355480.out to experiments-2_0/results/sasrec/beauty/BEAUTY_INITIAL/single_seed\n",
      "Downloading /home/nseverin/recsys_exps_help/sasrec-bert4rec-recsys23/results/sasrec/beauty/BEAUTY_INITIAL/single_seed/result2355487.out...\n",
      "Downloaded /home/nseverin/recsys_exps_help/sasrec-bert4rec-recsys23/results/sasrec/beauty/BEAUTY_INITIAL/single_seed/result2355487.out to experiments-2_0/results/sasrec/beauty/BEAUTY_INITIAL/single_seed\n",
      "Downloading /home/nseverin/recsys_exps_help/sasrec-bert4rec-recsys23/results/sasrec/beauty/BEAUTY_INITIAL/single_seed/result2355477.out...\n",
      "Downloaded /home/nseverin/recsys_exps_help/sasrec-bert4rec-recsys23/results/sasrec/beauty/BEAUTY_INITIAL/single_seed/result2355477.out to experiments-2_0/results/sasrec/beauty/BEAUTY_INITIAL/single_seed\n",
      "Downloading /home/nseverin/recsys_exps_help/sasrec-bert4rec-recsys23/results/sasrec/beauty/BEAUTY_INITIAL/single_seed/result2355492.out...\n",
      "Downloaded /home/nseverin/recsys_exps_help/sasrec-bert4rec-recsys23/results/sasrec/beauty/BEAUTY_INITIAL/single_seed/result2355492.out to experiments-2_0/results/sasrec/beauty/BEAUTY_INITIAL/single_seed\n",
      "Downloading /home/nseverin/recsys_exps_help/sasrec-bert4rec-recsys23/results/sasrec/beauty/BEAUTY_INITIAL/single_seed/result2355478.out...\n",
      "Downloaded /home/nseverin/recsys_exps_help/sasrec-bert4rec-recsys23/results/sasrec/beauty/BEAUTY_INITIAL/single_seed/result2355478.out to experiments-2_0/results/sasrec/beauty/BEAUTY_INITIAL/single_seed\n",
      "Downloading /home/nseverin/recsys_exps_help/sasrec-bert4rec-recsys23/results/sasrec/beauty/BEAUTY_INITIAL/single_seed/result2355486.out...\n",
      "Downloaded /home/nseverin/recsys_exps_help/sasrec-bert4rec-recsys23/results/sasrec/beauty/BEAUTY_INITIAL/single_seed/result2355486.out to experiments-2_0/results/sasrec/beauty/BEAUTY_INITIAL/single_seed\n",
      "Downloading /home/nseverin/recsys_exps_help/sasrec-bert4rec-recsys23/results/sasrec/beauty/BEAUTY_INITIAL/single_seed/result2355471.out...\n",
      "Downloaded /home/nseverin/recsys_exps_help/sasrec-bert4rec-recsys23/results/sasrec/beauty/BEAUTY_INITIAL/single_seed/result2355471.out to experiments-2_0/results/sasrec/beauty/BEAUTY_INITIAL/single_seed\n",
      "Downloading /home/nseverin/recsys_exps_help/sasrec-bert4rec-recsys23/results/sasrec/beauty/BEAUTY_INITIAL/single_seed/result2355472.out...\n",
      "Downloaded /home/nseverin/recsys_exps_help/sasrec-bert4rec-recsys23/results/sasrec/beauty/BEAUTY_INITIAL/single_seed/result2355472.out to experiments-2_0/results/sasrec/beauty/BEAUTY_INITIAL/single_seed\n",
      "Downloading /home/nseverin/recsys_exps_help/sasrec-bert4rec-recsys23/results/sasrec/beauty/BEAUTY_INITIAL/single_seed/result2355495.out...\n",
      "Downloaded /home/nseverin/recsys_exps_help/sasrec-bert4rec-recsys23/results/sasrec/beauty/BEAUTY_INITIAL/single_seed/result2355495.out to experiments-2_0/results/sasrec/beauty/BEAUTY_INITIAL/single_seed\n",
      "Downloading /home/nseverin/recsys_exps_help/sasrec-bert4rec-recsys23/results/sasrec/beauty/BEAUTY_INITIAL/single_seed/result2355470.out...\n",
      "Downloaded /home/nseverin/recsys_exps_help/sasrec-bert4rec-recsys23/results/sasrec/beauty/BEAUTY_INITIAL/single_seed/result2355470.out to experiments-2_0/results/sasrec/beauty/BEAUTY_INITIAL/single_seed\n"
     ]
    }
   ],
   "execution_count": 7
  },
  {
   "metadata": {},
   "cell_type": "code",
   "outputs": [],
   "execution_count": null,
   "source": "",
   "id": "13ac23521fc02ec2"
  }
 ],
 "metadata": {
  "kernelspec": {
   "display_name": "Python 3",
   "language": "python",
   "name": "python3"
  },
  "language_info": {
   "codemirror_mode": {
    "name": "ipython",
    "version": 2
   },
   "file_extension": ".py",
   "mimetype": "text/x-python",
   "name": "python",
   "nbconvert_exporter": "python",
   "pygments_lexer": "ipython2",
   "version": "2.7.6"
  }
 },
 "nbformat": 4,
 "nbformat_minor": 5
}
