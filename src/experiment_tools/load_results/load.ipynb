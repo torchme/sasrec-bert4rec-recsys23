{
 "cells": [
  {
   "metadata": {
    "ExecuteTime": {
     "end_time": "2025-01-27T07:44:49.274663Z",
     "start_time": "2025-01-27T07:44:49.269414Z"
    }
   },
   "cell_type": "code",
   "source": "%cd ../../../",
   "id": "6b3d4939757919e9",
   "outputs": [
    {
     "name": "stdout",
     "output_type": "stream",
     "text": [
      "/Users/nseverin/MyData/Projects/Science/LLM/sasrec-bert4rec-recsys23\n"
     ]
    },
    {
     "name": "stderr",
     "output_type": "stream",
     "text": [
      "/Users/nseverin/MyData/Projects/Science/LLM/sasrec-bert4rec-recsys23/venv/lib/python3.11/site-packages/IPython/core/magics/osm.py:417: UserWarning: This is now an optional IPython functionality, setting dhist requires you to install the `pickleshare` library.\n",
      "  self.shell.db['dhist'] = compress_dhist(dhist)[-100:]\n"
     ]
    }
   ],
   "execution_count": 1
  },
  {
   "metadata": {
    "ExecuteTime": {
     "end_time": "2025-01-27T08:09:51.389737Z",
     "start_time": "2025-01-27T08:09:51.386065Z"
    }
   },
   "cell_type": "code",
   "source": [
    "MODEL_NAME = 'sasrec'\n",
    "DATASET = 'beauty'\n",
    "EXPERIMENT_NAME = 'BEAUTY_INITIAL_MULTI'\n",
    "SEED_FOLDER = 'single_seed'\n",
    "SPLIT_NAME = 'general'\n",
    "MODE = 'LLM'\n",
    "\n",
    "REMOTE_RESULT_PATH = f'results/{MODEL_NAME}/{DATASET}/{EXPERIMENT_NAME}/{SEED_FOLDER}'"
   ],
   "id": "33bebc8cc1ad0234",
   "outputs": [],
   "execution_count": 9
  },
  {
   "metadata": {
    "ExecuteTime": {
     "end_time": "2025-01-27T08:09:55.240175Z",
     "start_time": "2025-01-27T08:09:52.247326Z"
    }
   },
   "cell_type": "code",
   "source": [
    "import paramiko\n",
    "from scp import SCPClient\n",
    "import os\n",
    "\n",
    "\n",
    "hostname = \"cluster.hpc.hse.ru\"\n",
    "username = \"nseverin\"\n",
    "password = \"N$P?(m^S\"\n",
    "port = 2222\n",
    "\n",
    "REMOTE_PATH = \"/home/nseverin/recsys_exps_help/sasrec-bert4rec-recsys23/\" + REMOTE_RESULT_PATH\n",
    "\n",
    "\n",
    "client = paramiko.SSHClient()\n",
    "client.set_missing_host_key_policy(paramiko.AutoAddPolicy())\n",
    "client.connect(hostname, username=username, password=password, port=port)\n",
    "\n",
    "sftp = client.open_sftp()\n",
    "files = sftp.listdir(REMOTE_PATH)\n",
    "sftp.close()\n",
    "client.close()\n",
    "\n",
    "print(files)\n",
    "\n",
    "result_inds = [x for x in files if x.startswith('result')]"
   ],
   "id": "9f9fc01e722a624f",
   "outputs": [
    {
     "name": "stdout",
     "output_type": "stream",
     "text": [
      "['result2356044.out', 'error2356041.out', 'result2356051.out', 'result2356043.out', 'result2356050.out', 'error2356044.out', 'error2356043.out', 'result2356048.out', 'error2356042.out', 'error2356049.out', 'error2356051.out', 'result2356045.out', 'result2356047.out', 'result2356041.out', 'error2356046.out', 'result2356046.out', 'result2356042.out', 'error2356045.out', 'error2356047.out', 'result2356049.out', 'error2356048.out', 'error2356050.out']\n"
     ]
    }
   ],
   "execution_count": 10
  },
  {
   "metadata": {
    "ExecuteTime": {
     "end_time": "2025-01-27T08:09:58.318644Z",
     "start_time": "2025-01-27T08:09:58.314820Z"
    }
   },
   "cell_type": "code",
   "source": "result_inds",
   "id": "94edfa3be1ad4611",
   "outputs": [
    {
     "data": {
      "text/plain": [
       "['result2356044.out',\n",
       " 'result2356051.out',\n",
       " 'result2356043.out',\n",
       " 'result2356050.out',\n",
       " 'result2356048.out',\n",
       " 'result2356045.out',\n",
       " 'result2356047.out',\n",
       " 'result2356041.out',\n",
       " 'result2356046.out',\n",
       " 'result2356042.out',\n",
       " 'result2356049.out']"
      ]
     },
     "execution_count": 11,
     "metadata": {},
     "output_type": "execute_result"
    }
   ],
   "execution_count": 11
  },
  {
   "metadata": {
    "ExecuteTime": {
     "end_time": "2025-01-27T08:10:02.636962Z",
     "start_time": "2025-01-27T08:10:02.626111Z"
    }
   },
   "cell_type": "code",
   "source": [
    "def download_files_via_scp(server, port, username, password, remote_files, local_directory):\n",
    "    \"\"\"\n",
    "    Downloads files from a remote server via SCP.\n",
    "\n",
    "    :param server: IP or hostname of the remote server\n",
    "    :param port: Port number for the SSH connection (default: 22)\n",
    "    :param username: Username for the SSH connection\n",
    "    :param password: Password for the SSH connection\n",
    "    :param remote_files: List of remote file paths to download\n",
    "    :param local_directory: Local directory to save the downloaded files\n",
    "    \"\"\"\n",
    "    try:\n",
    "        # Create an SSH client\n",
    "        ssh = paramiko.SSHClient()\n",
    "        ssh.set_missing_host_key_policy(paramiko.AutoAddPolicy())\n",
    "        ssh.connect(server, port, username, password)\n",
    "\n",
    "        # Create an SCP client\n",
    "        with SCPClient(ssh.get_transport()) as scp:\n",
    "            for remote_file in remote_files:\n",
    "                print(f\"Downloading {remote_file}...\")\n",
    "                # Download the file\n",
    "                scp.get(remote_file, local_path=os.path.join(local_directory, os.path.basename(remote_file)))\n",
    "                print(f\"Downloaded {remote_file} to {local_directory}\")\n",
    "\n",
    "    except Exception as e:\n",
    "        print(f\"An error occurred: {e}\")\n",
    "    finally:\n",
    "        # Close the SSH connection\n",
    "        ssh.close()"
   ],
   "id": "20ea1ca20eae438f",
   "outputs": [],
   "execution_count": 12
  },
  {
   "metadata": {
    "ExecuteTime": {
     "end_time": "2025-01-27T08:10:22.544149Z",
     "start_time": "2025-01-27T08:10:03.260007Z"
    }
   },
   "cell_type": "code",
   "source": [
    "server = \"cluster.hpc.hse.ru\"  # Replace with your server IP or hostname\n",
    "port = 2222  # SSH port, default is 22\n",
    "username = \"nseverin\"  # Replace with your username\n",
    "password = \"N$P?(m^S\"  # Replace with your password\n",
    "\n",
    "SBATCH_PATH = f'results/{MODEL_NAME}/{DATASET}/{EXPERIMENT_NAME}/{SEED_FOLDER}'\n",
    "\n",
    "\n",
    "remote_files = [os.path.join(REMOTE_PATH, result_file) for result_file in result_inds] \n",
    "\n",
    "local_directory = f\"experiments-2_0/results/{MODEL_NAME}/{DATASET}/{EXPERIMENT_NAME}/{SEED_FOLDER}\" \n",
    "\n",
    "# Ensure the local directory exists\n",
    "if not os.path.exists(local_directory):\n",
    "    os.makedirs(local_directory)\n",
    "\n",
    "# Download files\n",
    "download_files_via_scp(server, port, username, password, remote_files, local_directory)"
   ],
   "id": "345f7f392d3b34ac",
   "outputs": [
    {
     "name": "stdout",
     "output_type": "stream",
     "text": [
      "Downloading /home/nseverin/recsys_exps_help/sasrec-bert4rec-recsys23/results/sasrec/beauty/BEAUTY_INITIAL_MULTI/single_seed/result2356044.out...\n",
      "Downloaded /home/nseverin/recsys_exps_help/sasrec-bert4rec-recsys23/results/sasrec/beauty/BEAUTY_INITIAL_MULTI/single_seed/result2356044.out to experiments-2_0/results/sasrec/beauty/BEAUTY_INITIAL_MULTI/single_seed\n",
      "Downloading /home/nseverin/recsys_exps_help/sasrec-bert4rec-recsys23/results/sasrec/beauty/BEAUTY_INITIAL_MULTI/single_seed/result2356051.out...\n",
      "Downloaded /home/nseverin/recsys_exps_help/sasrec-bert4rec-recsys23/results/sasrec/beauty/BEAUTY_INITIAL_MULTI/single_seed/result2356051.out to experiments-2_0/results/sasrec/beauty/BEAUTY_INITIAL_MULTI/single_seed\n",
      "Downloading /home/nseverin/recsys_exps_help/sasrec-bert4rec-recsys23/results/sasrec/beauty/BEAUTY_INITIAL_MULTI/single_seed/result2356043.out...\n",
      "Downloaded /home/nseverin/recsys_exps_help/sasrec-bert4rec-recsys23/results/sasrec/beauty/BEAUTY_INITIAL_MULTI/single_seed/result2356043.out to experiments-2_0/results/sasrec/beauty/BEAUTY_INITIAL_MULTI/single_seed\n",
      "Downloading /home/nseverin/recsys_exps_help/sasrec-bert4rec-recsys23/results/sasrec/beauty/BEAUTY_INITIAL_MULTI/single_seed/result2356050.out...\n",
      "Downloaded /home/nseverin/recsys_exps_help/sasrec-bert4rec-recsys23/results/sasrec/beauty/BEAUTY_INITIAL_MULTI/single_seed/result2356050.out to experiments-2_0/results/sasrec/beauty/BEAUTY_INITIAL_MULTI/single_seed\n",
      "Downloading /home/nseverin/recsys_exps_help/sasrec-bert4rec-recsys23/results/sasrec/beauty/BEAUTY_INITIAL_MULTI/single_seed/result2356048.out...\n",
      "Downloaded /home/nseverin/recsys_exps_help/sasrec-bert4rec-recsys23/results/sasrec/beauty/BEAUTY_INITIAL_MULTI/single_seed/result2356048.out to experiments-2_0/results/sasrec/beauty/BEAUTY_INITIAL_MULTI/single_seed\n",
      "Downloading /home/nseverin/recsys_exps_help/sasrec-bert4rec-recsys23/results/sasrec/beauty/BEAUTY_INITIAL_MULTI/single_seed/result2356045.out...\n",
      "Downloaded /home/nseverin/recsys_exps_help/sasrec-bert4rec-recsys23/results/sasrec/beauty/BEAUTY_INITIAL_MULTI/single_seed/result2356045.out to experiments-2_0/results/sasrec/beauty/BEAUTY_INITIAL_MULTI/single_seed\n",
      "Downloading /home/nseverin/recsys_exps_help/sasrec-bert4rec-recsys23/results/sasrec/beauty/BEAUTY_INITIAL_MULTI/single_seed/result2356047.out...\n",
      "Downloaded /home/nseverin/recsys_exps_help/sasrec-bert4rec-recsys23/results/sasrec/beauty/BEAUTY_INITIAL_MULTI/single_seed/result2356047.out to experiments-2_0/results/sasrec/beauty/BEAUTY_INITIAL_MULTI/single_seed\n",
      "Downloading /home/nseverin/recsys_exps_help/sasrec-bert4rec-recsys23/results/sasrec/beauty/BEAUTY_INITIAL_MULTI/single_seed/result2356041.out...\n",
      "Downloaded /home/nseverin/recsys_exps_help/sasrec-bert4rec-recsys23/results/sasrec/beauty/BEAUTY_INITIAL_MULTI/single_seed/result2356041.out to experiments-2_0/results/sasrec/beauty/BEAUTY_INITIAL_MULTI/single_seed\n",
      "Downloading /home/nseverin/recsys_exps_help/sasrec-bert4rec-recsys23/results/sasrec/beauty/BEAUTY_INITIAL_MULTI/single_seed/result2356046.out...\n",
      "Downloaded /home/nseverin/recsys_exps_help/sasrec-bert4rec-recsys23/results/sasrec/beauty/BEAUTY_INITIAL_MULTI/single_seed/result2356046.out to experiments-2_0/results/sasrec/beauty/BEAUTY_INITIAL_MULTI/single_seed\n",
      "Downloading /home/nseverin/recsys_exps_help/sasrec-bert4rec-recsys23/results/sasrec/beauty/BEAUTY_INITIAL_MULTI/single_seed/result2356042.out...\n",
      "Downloaded /home/nseverin/recsys_exps_help/sasrec-bert4rec-recsys23/results/sasrec/beauty/BEAUTY_INITIAL_MULTI/single_seed/result2356042.out to experiments-2_0/results/sasrec/beauty/BEAUTY_INITIAL_MULTI/single_seed\n",
      "Downloading /home/nseverin/recsys_exps_help/sasrec-bert4rec-recsys23/results/sasrec/beauty/BEAUTY_INITIAL_MULTI/single_seed/result2356049.out...\n",
      "Downloaded /home/nseverin/recsys_exps_help/sasrec-bert4rec-recsys23/results/sasrec/beauty/BEAUTY_INITIAL_MULTI/single_seed/result2356049.out to experiments-2_0/results/sasrec/beauty/BEAUTY_INITIAL_MULTI/single_seed\n"
     ]
    }
   ],
   "execution_count": 13
  },
  {
   "metadata": {},
   "cell_type": "code",
   "outputs": [],
   "execution_count": null,
   "source": "",
   "id": "13ac23521fc02ec2"
  }
 ],
 "metadata": {
  "kernelspec": {
   "display_name": "Python 3",
   "language": "python",
   "name": "python3"
  },
  "language_info": {
   "codemirror_mode": {
    "name": "ipython",
    "version": 2
   },
   "file_extension": ".py",
   "mimetype": "text/x-python",
   "name": "python",
   "nbconvert_exporter": "python",
   "pygments_lexer": "ipython2",
   "version": "2.7.6"
  }
 },
 "nbformat": 4,
 "nbformat_minor": 5
}
