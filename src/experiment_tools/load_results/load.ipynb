{
 "cells": [
  {
   "metadata": {
    "ExecuteTime": {
     "end_time": "2025-01-30T06:03:30.253603Z",
     "start_time": "2025-01-30T06:03:30.247362Z"
    }
   },
   "cell_type": "code",
   "source": "%cd ../../../",
   "id": "6b3d4939757919e9",
   "outputs": [
    {
     "name": "stdout",
     "output_type": "stream",
     "text": [
      "/Users/nseverin/MyData/Projects/Science/LLM/sasrec-bert4rec-recsys23\n"
     ]
    },
    {
     "name": "stderr",
     "output_type": "stream",
     "text": [
      "/Users/nseverin/MyData/Projects/Science/LLM/sasrec-bert4rec-recsys23/venv/lib/python3.11/site-packages/IPython/core/magics/osm.py:417: UserWarning: This is now an optional IPython functionality, setting dhist requires you to install the `pickleshare` library.\n",
      "  self.shell.db['dhist'] = compress_dhist(dhist)[-100:]\n"
     ]
    }
   ],
   "execution_count": 1
  },
  {
   "metadata": {
    "ExecuteTime": {
     "end_time": "2025-01-30T06:04:20.670316Z",
     "start_time": "2025-01-30T06:04:20.667275Z"
    }
   },
   "cell_type": "code",
   "source": [
    "MODEL_NAME = 'sasrec'\n",
    "DATASET = 'ml20m'\n",
    "EXPERIMENT_NAME = 'baseline'\n",
    "SEED_FOLDER = 'other_seed'\n",
    "SPLIT_NAME = 'general'\n",
    "MODE = 'LLM'\n",
    "\n",
    "REMOTE_RESULT_PATH = f'results/{MODEL_NAME}/{DATASET}/{EXPERIMENT_NAME}/{SEED_FOLDER}'"
   ],
   "id": "33bebc8cc1ad0234",
   "outputs": [],
   "execution_count": 3
  },
  {
   "metadata": {
    "ExecuteTime": {
     "end_time": "2025-01-30T06:04:26.001803Z",
     "start_time": "2025-01-30T06:04:21.288664Z"
    }
   },
   "cell_type": "code",
   "source": [
    "import paramiko\n",
    "from scp import SCPClient\n",
    "import os\n",
    "\n",
    "\n",
    "hostname = \"cluster.hpc.hse.ru\"\n",
    "username = \"nseverin\"\n",
    "password = \"N$P?(m^S\"\n",
    "port = 2222\n",
    "\n",
    "REMOTE_PATH = \"/home/nseverin/recsys_exps_help/sasrec-bert4rec-recsys23/\" + REMOTE_RESULT_PATH\n",
    "\n",
    "\n",
    "client = paramiko.SSHClient()\n",
    "client.set_missing_host_key_policy(paramiko.AutoAddPolicy())\n",
    "client.connect(hostname, username=username, password=password, port=port)\n",
    "\n",
    "sftp = client.open_sftp()\n",
    "files = sftp.listdir(REMOTE_PATH)\n",
    "sftp.close()\n",
    "client.close()\n",
    "\n",
    "print(files)\n",
    "\n",
    "result_inds = [x for x in files if x.startswith('result')]"
   ],
   "id": "9f9fc01e722a624f",
   "outputs": [
    {
     "name": "stdout",
     "output_type": "stream",
     "text": [
      "['result2358599.out', 'result2358594.out', 'error2358599.out', 'error2358596.out', 'result2358585.out', 'error2358589.out', 'result2358588.out', 'result2358590.out', 'error2358590.out', 'result2358592.out', 'error2358585.out', 'result2358586.out', 'error2358600.out', 'error2358591.out', 'result2358593.out', 'error2358595.out', 'error2358593.out', 'error2358592.out', 'error2358597.out', 'result2358587.out', 'error2358587.out', 'error2358588.out', 'result2358600.out', 'result2358589.out', 'result2358591.out', 'error2358594.out', 'error2358598.out', 'result2358597.out', 'error2358586.out', 'result2358598.out', 'result2358595.out', 'result2358596.out']\n"
     ]
    }
   ],
   "execution_count": 4
  },
  {
   "metadata": {
    "ExecuteTime": {
     "end_time": "2025-01-30T06:04:26.017932Z",
     "start_time": "2025-01-30T06:04:26.013744Z"
    }
   },
   "cell_type": "code",
   "source": "result_inds",
   "id": "94edfa3be1ad4611",
   "outputs": [
    {
     "data": {
      "text/plain": [
       "['result2358599.out',\n",
       " 'result2358594.out',\n",
       " 'result2358585.out',\n",
       " 'result2358588.out',\n",
       " 'result2358590.out',\n",
       " 'result2358592.out',\n",
       " 'result2358586.out',\n",
       " 'result2358593.out',\n",
       " 'result2358587.out',\n",
       " 'result2358600.out',\n",
       " 'result2358589.out',\n",
       " 'result2358591.out',\n",
       " 'result2358597.out',\n",
       " 'result2358598.out',\n",
       " 'result2358595.out',\n",
       " 'result2358596.out']"
      ]
     },
     "execution_count": 5,
     "metadata": {},
     "output_type": "execute_result"
    }
   ],
   "execution_count": 5
  },
  {
   "metadata": {
    "ExecuteTime": {
     "end_time": "2025-01-30T06:04:26.032745Z",
     "start_time": "2025-01-30T06:04:26.029247Z"
    }
   },
   "cell_type": "code",
   "source": [
    "def download_files_via_scp(server, port, username, password, remote_files, local_directory):\n",
    "    \"\"\"\n",
    "    Downloads files from a remote server via SCP.\n",
    "\n",
    "    :param server: IP or hostname of the remote server\n",
    "    :param port: Port number for the SSH connection (default: 22)\n",
    "    :param username: Username for the SSH connection\n",
    "    :param password: Password for the SSH connection\n",
    "    :param remote_files: List of remote file paths to download\n",
    "    :param local_directory: Local directory to save the downloaded files\n",
    "    \"\"\"\n",
    "    try:\n",
    "        # Create an SSH client\n",
    "        ssh = paramiko.SSHClient()\n",
    "        ssh.set_missing_host_key_policy(paramiko.AutoAddPolicy())\n",
    "        ssh.connect(server, port, username, password)\n",
    "\n",
    "        # Create an SCP client\n",
    "        with SCPClient(ssh.get_transport()) as scp:\n",
    "            for remote_file in remote_files:\n",
    "                print(f\"Downloading {remote_file}...\")\n",
    "                # Download the file\n",
    "                scp.get(remote_file, local_path=os.path.join(local_directory, os.path.basename(remote_file)))\n",
    "                print(f\"Downloaded {remote_file} to {local_directory}\")\n",
    "\n",
    "    except Exception as e:\n",
    "        print(f\"An error occurred: {e}\")\n",
    "    finally:\n",
    "        # Close the SSH connection\n",
    "        ssh.close()"
   ],
   "id": "20ea1ca20eae438f",
   "outputs": [],
   "execution_count": 6
  },
  {
   "metadata": {
    "ExecuteTime": {
     "end_time": "2025-01-30T06:04:53.260004Z",
     "start_time": "2025-01-30T06:04:26.043964Z"
    }
   },
   "cell_type": "code",
   "source": [
    "server = \"cluster.hpc.hse.ru\"  # Replace with your server IP or hostname\n",
    "port = 2222  # SSH port, default is 22\n",
    "username = \"nseverin\"  # Replace with your username\n",
    "password = \"N$P?(m^S\"  # Replace with your password\n",
    "\n",
    "SBATCH_PATH = f'results/{MODEL_NAME}/{DATASET}/{EXPERIMENT_NAME}/{SEED_FOLDER}'\n",
    "\n",
    "\n",
    "remote_files = [os.path.join(REMOTE_PATH, result_file) for result_file in result_inds] \n",
    "\n",
    "local_directory = f\"experiments-2_0/results/{MODEL_NAME}/{DATASET}/{EXPERIMENT_NAME}/{SEED_FOLDER}\" \n",
    "\n",
    "# Ensure the local directory exists\n",
    "if not os.path.exists(local_directory):\n",
    "    os.makedirs(local_directory)\n",
    "\n",
    "# Download files\n",
    "download_files_via_scp(server, port, username, password, remote_files, local_directory)"
   ],
   "id": "345f7f392d3b34ac",
   "outputs": [
    {
     "name": "stdout",
     "output_type": "stream",
     "text": [
      "Downloading /home/nseverin/recsys_exps_help/sasrec-bert4rec-recsys23/results/sasrec/ml20m/baseline/other_seed/result2358599.out...\n",
      "Downloaded /home/nseverin/recsys_exps_help/sasrec-bert4rec-recsys23/results/sasrec/ml20m/baseline/other_seed/result2358599.out to experiments-2_0/results/sasrec/ml20m/baseline/other_seed\n",
      "Downloading /home/nseverin/recsys_exps_help/sasrec-bert4rec-recsys23/results/sasrec/ml20m/baseline/other_seed/result2358594.out...\n",
      "Downloaded /home/nseverin/recsys_exps_help/sasrec-bert4rec-recsys23/results/sasrec/ml20m/baseline/other_seed/result2358594.out to experiments-2_0/results/sasrec/ml20m/baseline/other_seed\n",
      "Downloading /home/nseverin/recsys_exps_help/sasrec-bert4rec-recsys23/results/sasrec/ml20m/baseline/other_seed/result2358585.out...\n",
      "Downloaded /home/nseverin/recsys_exps_help/sasrec-bert4rec-recsys23/results/sasrec/ml20m/baseline/other_seed/result2358585.out to experiments-2_0/results/sasrec/ml20m/baseline/other_seed\n",
      "Downloading /home/nseverin/recsys_exps_help/sasrec-bert4rec-recsys23/results/sasrec/ml20m/baseline/other_seed/result2358588.out...\n",
      "Downloaded /home/nseverin/recsys_exps_help/sasrec-bert4rec-recsys23/results/sasrec/ml20m/baseline/other_seed/result2358588.out to experiments-2_0/results/sasrec/ml20m/baseline/other_seed\n",
      "Downloading /home/nseverin/recsys_exps_help/sasrec-bert4rec-recsys23/results/sasrec/ml20m/baseline/other_seed/result2358590.out...\n",
      "Downloaded /home/nseverin/recsys_exps_help/sasrec-bert4rec-recsys23/results/sasrec/ml20m/baseline/other_seed/result2358590.out to experiments-2_0/results/sasrec/ml20m/baseline/other_seed\n",
      "Downloading /home/nseverin/recsys_exps_help/sasrec-bert4rec-recsys23/results/sasrec/ml20m/baseline/other_seed/result2358592.out...\n",
      "Downloaded /home/nseverin/recsys_exps_help/sasrec-bert4rec-recsys23/results/sasrec/ml20m/baseline/other_seed/result2358592.out to experiments-2_0/results/sasrec/ml20m/baseline/other_seed\n",
      "Downloading /home/nseverin/recsys_exps_help/sasrec-bert4rec-recsys23/results/sasrec/ml20m/baseline/other_seed/result2358586.out...\n",
      "Downloaded /home/nseverin/recsys_exps_help/sasrec-bert4rec-recsys23/results/sasrec/ml20m/baseline/other_seed/result2358586.out to experiments-2_0/results/sasrec/ml20m/baseline/other_seed\n",
      "Downloading /home/nseverin/recsys_exps_help/sasrec-bert4rec-recsys23/results/sasrec/ml20m/baseline/other_seed/result2358593.out...\n",
      "Downloaded /home/nseverin/recsys_exps_help/sasrec-bert4rec-recsys23/results/sasrec/ml20m/baseline/other_seed/result2358593.out to experiments-2_0/results/sasrec/ml20m/baseline/other_seed\n",
      "Downloading /home/nseverin/recsys_exps_help/sasrec-bert4rec-recsys23/results/sasrec/ml20m/baseline/other_seed/result2358587.out...\n",
      "Downloaded /home/nseverin/recsys_exps_help/sasrec-bert4rec-recsys23/results/sasrec/ml20m/baseline/other_seed/result2358587.out to experiments-2_0/results/sasrec/ml20m/baseline/other_seed\n",
      "Downloading /home/nseverin/recsys_exps_help/sasrec-bert4rec-recsys23/results/sasrec/ml20m/baseline/other_seed/result2358600.out...\n",
      "Downloaded /home/nseverin/recsys_exps_help/sasrec-bert4rec-recsys23/results/sasrec/ml20m/baseline/other_seed/result2358600.out to experiments-2_0/results/sasrec/ml20m/baseline/other_seed\n",
      "Downloading /home/nseverin/recsys_exps_help/sasrec-bert4rec-recsys23/results/sasrec/ml20m/baseline/other_seed/result2358589.out...\n",
      "Downloaded /home/nseverin/recsys_exps_help/sasrec-bert4rec-recsys23/results/sasrec/ml20m/baseline/other_seed/result2358589.out to experiments-2_0/results/sasrec/ml20m/baseline/other_seed\n",
      "Downloading /home/nseverin/recsys_exps_help/sasrec-bert4rec-recsys23/results/sasrec/ml20m/baseline/other_seed/result2358591.out...\n",
      "Downloaded /home/nseverin/recsys_exps_help/sasrec-bert4rec-recsys23/results/sasrec/ml20m/baseline/other_seed/result2358591.out to experiments-2_0/results/sasrec/ml20m/baseline/other_seed\n",
      "Downloading /home/nseverin/recsys_exps_help/sasrec-bert4rec-recsys23/results/sasrec/ml20m/baseline/other_seed/result2358597.out...\n",
      "Downloaded /home/nseverin/recsys_exps_help/sasrec-bert4rec-recsys23/results/sasrec/ml20m/baseline/other_seed/result2358597.out to experiments-2_0/results/sasrec/ml20m/baseline/other_seed\n",
      "Downloading /home/nseverin/recsys_exps_help/sasrec-bert4rec-recsys23/results/sasrec/ml20m/baseline/other_seed/result2358598.out...\n",
      "Downloaded /home/nseverin/recsys_exps_help/sasrec-bert4rec-recsys23/results/sasrec/ml20m/baseline/other_seed/result2358598.out to experiments-2_0/results/sasrec/ml20m/baseline/other_seed\n",
      "Downloading /home/nseverin/recsys_exps_help/sasrec-bert4rec-recsys23/results/sasrec/ml20m/baseline/other_seed/result2358595.out...\n",
      "Downloaded /home/nseverin/recsys_exps_help/sasrec-bert4rec-recsys23/results/sasrec/ml20m/baseline/other_seed/result2358595.out to experiments-2_0/results/sasrec/ml20m/baseline/other_seed\n",
      "Downloading /home/nseverin/recsys_exps_help/sasrec-bert4rec-recsys23/results/sasrec/ml20m/baseline/other_seed/result2358596.out...\n",
      "Downloaded /home/nseverin/recsys_exps_help/sasrec-bert4rec-recsys23/results/sasrec/ml20m/baseline/other_seed/result2358596.out to experiments-2_0/results/sasrec/ml20m/baseline/other_seed\n"
     ]
    }
   ],
   "execution_count": 7
  },
  {
   "metadata": {},
   "cell_type": "code",
   "outputs": [],
   "execution_count": null,
   "source": "",
   "id": "13ac23521fc02ec2"
  }
 ],
 "metadata": {
  "kernelspec": {
   "display_name": "Python 3",
   "language": "python",
   "name": "python3"
  },
  "language_info": {
   "codemirror_mode": {
    "name": "ipython",
    "version": 2
   },
   "file_extension": ".py",
   "mimetype": "text/x-python",
   "name": "python",
   "nbconvert_exporter": "python",
   "pygments_lexer": "ipython2",
   "version": "2.7.6"
  }
 },
 "nbformat": 4,
 "nbformat_minor": 5
}
